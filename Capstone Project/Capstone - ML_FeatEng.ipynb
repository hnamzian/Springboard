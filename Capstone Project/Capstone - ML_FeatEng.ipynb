{
 "cells": [
  {
   "cell_type": "markdown",
   "metadata": {},
   "source": [
    "* [Functions](#Functions)\n",
    "* [Naive test](#Naive-test)\n",
    "* [Imputation](#Imputation)\n",
    "* [Interpretation of timestamp](#Interpretation-of-timestamp)\n",
    "* [handling bugs from `build_year` field:](#handling-bugs-from-build_year-field:)\n",
    "* [treat wrong `build_year`s as NaN:](#treat-wrong-build_years-as-NaN:)\n",
    "* [handling outlier data in `full_sq, life_sq, kitch_sq`:](#handling-outlier-data-in-full_sq,-life_sq,-kitch_sq:)\n",
    "* [try to correct the bad relations between `kitch-sq`, `life_sq`, `full_sq`](#try-to-correct-the-bad-relations-between-kitch-sq,-life_sq,-full_sq)\n",
    "* [treat the bad values of `kitch-sq`, `life_sq`, `full_sq` as NaN](#treat-the-bad-values-of-kitch-sq,-life_sq,-full_sq-as-NaN)\n",
    "* [treat outliers in `num_room` as NaN](#treat-outliers-in-num_room-as-NaN)\n",
    "* [Replacing `floor` with `max_floor` for wrong values](#Replacing-floor-with-max_floor-for-wrong-values)\n",
    "* [treat wring values in `floor` as NaN](#treat-wring-values-in-floor-as-NaN)\n",
    "* [remove outlier from `state`](#remove-outlier-from-state)\n",
    "* [Adding age instead of build_year](#Adding-age-instead-of-build_year)\n",
    "* [Some feature engineering](#Some-feature-engineering)\n",
    "* [All bug removal from dataset and feature engineering](#All-bug-removal-from-dataset-and-feature-engineering)\n",
    "* [Imputation + Feature Engineering](#Imputation-+-Feature-Engineering)\n",
    "* [Feature importance](#Feature-importance)\n",
    "* [Using `macro` dataset](#Using-macro-dataset)\n",
    "* [Using feature importance on train_macro](#Using-feature-importance-on-train_macro)\n",
    "* [Dimension Reduction](#Dimension-Reduction)\n",
    "\n",
    "\n",
    "\n"
   ]
  },
  {
   "cell_type": "code",
   "execution_count": 1,
   "metadata": {
    "collapsed": true
   },
   "outputs": [],
   "source": [
    "import pandas as pd\n",
    "import numpy as np\n",
    "import scipy as scp\n",
    "from scipy import stats\n",
    "import sklearn \n",
    "from sklearn.preprocessing import Imputer\n",
    "from sklearn import preprocessing\n",
    "import statsmodels.api as sm\n",
    "import xgboost as xgb\n",
    "from xgboost import XGBRegressor\n",
    "from sklearn.model_selection import cross_val_score\n",
    "from sklearn.model_selection import cross_val_predict\n",
    "from sklearn.decomposition import PCA, FastICA, TruncatedSVD\n",
    "from sklearn.random_projection import GaussianRandomProjection\n",
    "from sklearn.random_projection import SparseRandomProjection\n",
    "from sklearn.metrics import r2_score\n",
    "import matplotlib.pyplot as plt\n",
    "import seaborn as sns\n",
    "%matplotlib inline\n",
    "import warnings\n",
    "warnings.filterwarnings(action='ignore')"
   ]
  },
  {
   "cell_type": "code",
   "execution_count": 2,
   "metadata": {
    "collapsed": true
   },
   "outputs": [],
   "source": [
    "train = pd.read_csv('./data/Sber Bank/train.csv')\n",
    "train_cols = train.drop(['id', 'price_doc'], axis=1).columns\n",
    "macro = pd.read_csv('./data/Sber Bank/macro.csv')\n",
    "macro_cols = macro.columns\n",
    "train = pd.merge(train, macro, on='timestamp')"
   ]
  },
  {
   "cell_type": "code",
   "execution_count": 3,
   "metadata": {
    "collapsed": true
   },
   "outputs": [],
   "source": [
    "train.timestamp = pd.to_datetime(train.timestamp)\n",
    "\n",
    "for c in train.columns:\n",
    "    if train[c].dtype == 'object':\n",
    "        lbl = preprocessing.LabelEncoder()\n",
    "        lbl.fit(list(train[c].values)) \n",
    "        train[c] = lbl.transform(list(train[c].values))"
   ]
  },
  {
   "cell_type": "code",
   "execution_count": 4,
   "metadata": {},
   "outputs": [
    {
     "name": "stdout",
     "output_type": "stream",
     "text": [
      "Length of X_train data: (21329, 389)\n",
      "Length of y_train data: (21329L,)\n",
      "Length of X_test data:  (9142, 389)\n",
      "Length of y_test data:  (9142L,)\n"
     ]
    }
   ],
   "source": [
    "from sklearn.model_selection import train_test_split\n",
    "from sklearn.model_selection import GridSearchCV\n",
    "from sklearn.model_selection import train_test_split\n",
    "\n",
    "X_train, X_test, y_train, y_test = train_test_split(train.drop(['id', 'price_doc'], axis=1), \n",
    "                                                    train['price_doc'], \n",
    "                                                    test_size=0.3, \n",
    "                                                    random_state=42)\n",
    "\n",
    "print 'Length of X_train data: {}'.format(X_train.shape) \n",
    "print 'Length of y_train data: {}'.format(y_train.shape) \n",
    "print 'Length of X_test data:  {}'.format(X_test.shape)\n",
    "print 'Length of y_test data:  {}'.format(y_test.shape) "
   ]
  },
  {
   "cell_type": "code",
   "execution_count": null,
   "metadata": {
    "collapsed": true
   },
   "outputs": [],
   "source": []
  },
  {
   "cell_type": "code",
   "execution_count": null,
   "metadata": {
    "collapsed": true
   },
   "outputs": [],
   "source": []
  },
  {
   "cell_type": "markdown",
   "metadata": {},
   "source": [
    "## Functions"
   ]
  },
  {
   "cell_type": "code",
   "execution_count": 5,
   "metadata": {
    "collapsed": true
   },
   "outputs": [],
   "source": [
    "# Root Mean Squared Log error\n",
    "def RMSLE(y, y_):\n",
    "    return np.sqrt(np.mean(np.log((y+1)/(y_+1))**2))"
   ]
  },
  {
   "cell_type": "code",
   "execution_count": 6,
   "metadata": {
    "collapsed": true
   },
   "outputs": [],
   "source": [
    "def model_eval(estimator, X_train, y_train, X_test, y_test):\n",
    "    #train_cv_score = cross_val_score(xgr, X_train, y_train, cv=5)\n",
    "    y_train_pred = cross_val_predict(estimator, X_train, y_train, cv=5)\n",
    "    train_r2_score = r2_score(y_train, y_train_pred)\n",
    "    train_mse = np.sqrt(np.mean((y_train-y_train_pred)**2))\n",
    "    train_rmsle = RMSLE(y_train, y_train_pred)\n",
    "    \n",
    "    model = estimator.fit(X_train, y_train)\n",
    "    y_test_pred = estimator.predict(X_test)\n",
    "    test_r2_score = r2_score(y_test, y_test_pred)\n",
    "    test_mse = np.sqrt(np.mean((y_test-y_test_pred)**2))\n",
    "    test_rmsle = RMSLE(y_test, y_test_pred)\n",
    "\n",
    "    #print 'train CV R2_Scores:     {}'.format(train_cv_score)\n",
    "    print 'train RMSLE:            {}'.format(train_rmsle)\n",
    "    print 'train CV R2_Score:      {}'.format(train_r2_score)\n",
    "    print 'train mse:              {}'.format(train_mse)\n",
    "    print 'test rmsle:             {}'.format(test_rmsle)\n",
    "    print 'test R2_Score:          {}'.format(test_r2_score)\n",
    "    print 'test mse:               {}'.format(test_mse)\n",
    "    \n",
    "    return y_train_pred, y_test_pred, model"
   ]
  },
  {
   "cell_type": "code",
   "execution_count": null,
   "metadata": {
    "collapsed": true
   },
   "outputs": [],
   "source": []
  },
  {
   "cell_type": "code",
   "execution_count": null,
   "metadata": {
    "collapsed": true
   },
   "outputs": [],
   "source": []
  },
  {
   "cell_type": "code",
   "execution_count": 135,
   "metadata": {},
   "outputs": [
    {
     "name": "stdout",
     "output_type": "stream",
     "text": [
      "132\n"
     ]
    }
   ],
   "source": [
    "xgb_params = {\n",
    "    'min_child_weight': 3,\n",
    "    'max_depth': 5,\n",
    "    'max_bins': 1024,\n",
    "    'eta': 0.1,\n",
    "    'max_depth': 6,\n",
    "    'subsample': 0.8,\n",
    "    'colsample_bytree': 0.8,\n",
    "    'n_estimator':200}\n",
    "dtrain = xgb.DMatrix(X_train.drop(['timestamp'], axis=1), y_train)\n",
    "dtest = xgb.DMatrix(X_test.drop(['timestamp'], axis=1))\n",
    "cv_out = xgb.cv(xgb_params, dtrain=dtrain, num_boost_round=1000, early_stopping_rounds=50)\n",
    "num_boost_round = len(cv_out)\n",
    "print num_boost_round"
   ]
  },
  {
   "cell_type": "code",
   "execution_count": null,
   "metadata": {
    "collapsed": true
   },
   "outputs": [],
   "source": []
  },
  {
   "cell_type": "code",
   "execution_count": null,
   "metadata": {
    "collapsed": true
   },
   "outputs": [],
   "source": []
  },
  {
   "cell_type": "markdown",
   "metadata": {},
   "source": [
    "## Naive test"
   ]
  },
  {
   "cell_type": "code",
   "execution_count": 394,
   "metadata": {},
   "outputs": [
    {
     "name": "stdout",
     "output_type": "stream",
     "text": [
      "train RMSLE:            0.471889172903\n",
      "train CV R2_Score:      0.681869572739\n",
      "train mse:              2730277.33758\n",
      "test rmsle:             0.469632796517\n",
      "test R2_Score:          0.684553704598\n",
      "test mse:               2603297.40152\n"
     ]
    }
   ],
   "source": [
    "xgr = XGBRegressor(max_depth=6, \n",
    "                   learning_rate=0.1, \n",
    "                   subsample=0.8, \n",
    "                   colsample_bytree=0.8, \n",
    "                   n_estimators=200, \n",
    "                   early_stopping_rounds=50)\n",
    "\n",
    "y_train_naive, y_test_naive, model_naive = model_eval(xgr, \n",
    "                                                      X_train[train_cols].drop(['timestamp'], axis=1), y_train, \n",
    "                                                      X_test[train_cols].drop(['timestamp'], axis=1), y_test)"
   ]
  },
  {
   "cell_type": "code",
   "execution_count": 395,
   "metadata": {},
   "outputs": [
    {
     "name": "stdout",
     "output_type": "stream",
     "text": [
      "train RMSLE:            0.469813729365\n",
      "train CV R2_Score:      0.686236172618\n",
      "train mse:              2711471.27372\n",
      "test rmsle:             0.46709035621\n",
      "test R2_Score:          0.704189500148\n",
      "test mse:               2520971.06981\n"
     ]
    }
   ],
   "source": [
    "xgr = XGBRegressor(max_depth=6, \n",
    "                   learning_rate=0.1, \n",
    "                   subsample=0.8, \n",
    "                   colsample_bytree=0.8, \n",
    "                   n_estimators=200, \n",
    "                   early_stopping_rounds=50)\n",
    "\n",
    "y_train_macro_naive, y_test_macro_naive, model_macro_naive = model_eval(xgr, \n",
    "                                                                        X_train.drop(['timestamp'], axis=1), y_train, \n",
    "                                                                        X_test.drop(['timestamp'], axis=1), y_test)"
   ]
  },
  {
   "cell_type": "code",
   "execution_count": 137,
   "metadata": {},
   "outputs": [
    {
     "data": {
      "text/plain": [
       "<matplotlib.collections.LineCollection at 0x231e3a58>"
      ]
     },
     "execution_count": 137,
     "metadata": {},
     "output_type": "execute_result"
    },
    {
     "data": {
      "image/png": "[encoded data removed]",
      "text/plain": [
       "<matplotlib.figure.Figure at 0x12d8de10>"
      ]
     },
     "metadata": {},
     "output_type": "display_data"
    }
   ],
   "source": [
    "fig, ax = plt.subplots(1,2,figsize=[16,6])\n",
    "\n",
    "sns.regplot(y_test, y_test_pred, fit_reg=False, ax=ax[0])\n",
    "ax[0].plot(np.linspace(0, 7e7, 10), np.linspace(0, 7e7, 10), '--', color='black', alpha=0.75)\n",
    "\n",
    "sns.regplot(y_test, y_test-y_test_pred, fit_reg=False, ax=ax[1])\n",
    "sns.plt.hlines(y=0, xmin=0, xmax = 8e7)"
   ]
  },
  {
   "cell_type": "code",
   "execution_count": null,
   "metadata": {
    "collapsed": true
   },
   "outputs": [],
   "source": []
  },
  {
   "cell_type": "code",
   "execution_count": 7,
   "metadata": {
    "collapsed": true
   },
   "outputs": [],
   "source": [
    "import knnimpute as ki"
   ]
  },
  {
   "cell_type": "code",
   "execution_count": 14,
   "metadata": {
    "collapsed": true
   },
   "outputs": [],
   "source": [
    "x = X_train.drop('timestamp', axis=1).values\n",
    "x = ki.knn_impute_few_observed(x, np.isnan(x), 15)"
   ]
  },
  {
   "cell_type": "code",
   "execution_count": 15,
   "metadata": {
    "collapsed": true
   },
   "outputs": [],
   "source": [
    "cols = X_train.drop('timestamp', axis=1).columns\n",
    "x = pd.DataFrame(x)\n",
    "x.columns = cols"
   ]
  },
  {
   "cell_type": "code",
   "execution_count": 20,
   "metadata": {
    "collapsed": true
   },
   "outputs": [],
   "source": [
    "xgr = XGBRegressor(max_depth=6, \n",
    "                   learning_rate=0.1, \n",
    "                   subsample=0.8, \n",
    "                   colsample_bytree=0.8, \n",
    "                   n_estimators=200, \n",
    "                   early_stopping_rounds=50)\n",
    "\n",
    "y_train_pred = cross_val_predict(xgr, x, y_train, cv=5)\n",
    "train_r2_score = r2_score(y_train, y_train_pred)"
   ]
  },
  {
   "cell_type": "code",
   "execution_count": 21,
   "metadata": {},
   "outputs": [
    {
     "data": {
      "text/plain": [
       "0.68264406628446694"
      ]
     },
     "execution_count": 21,
     "metadata": {},
     "output_type": "execute_result"
    }
   ],
   "source": [
    "train_r2_score"
   ]
  },
  {
   "cell_type": "code",
   "execution_count": null,
   "metadata": {
    "collapsed": true
   },
   "outputs": [],
   "source": []
  },
  {
   "cell_type": "code",
   "execution_count": null,
   "metadata": {
    "collapsed": true
   },
   "outputs": [],
   "source": []
  },
  {
   "cell_type": "code",
   "execution_count": null,
   "metadata": {
    "collapsed": true
   },
   "outputs": [],
   "source": []
  },
  {
   "cell_type": "code",
   "execution_count": 24,
   "metadata": {
    "collapsed": true
   },
   "outputs": [],
   "source": [
    "x = X_train.drop('timestamp', axis=1).values\n",
    "x = ki.knn_impute_optimistic(x, np.isnan(x), 15)"
   ]
  },
  {
   "cell_type": "code",
   "execution_count": 25,
   "metadata": {
    "collapsed": true
   },
   "outputs": [],
   "source": [
    "cols = X_train.drop('timestamp', axis=1).columns\n",
    "x = pd.DataFrame(x)\n",
    "x.columns = cols"
   ]
  },
  {
   "cell_type": "code",
   "execution_count": 26,
   "metadata": {},
   "outputs": [
    {
     "name": "stdout",
     "output_type": "stream",
     "text": [
      "0.679486954766\n"
     ]
    }
   ],
   "source": [
    "xgr = XGBRegressor(max_depth=6, \n",
    "                   learning_rate=0.1, \n",
    "                   subsample=0.8, \n",
    "                   colsample_bytree=0.8, \n",
    "                   n_estimators=200, \n",
    "                   early_stopping_rounds=50)\n",
    "\n",
    "y_train_pred = cross_val_predict(xgr, x, y_train, cv=5)\n",
    "train_r2_score = r2_score(y_train, y_train_pred)\n",
    "\n",
    "print train_r2_score"
   ]
  },
  {
   "cell_type": "code",
   "execution_count": null,
   "metadata": {
    "collapsed": true
   },
   "outputs": [],
   "source": []
  },
  {
   "cell_type": "code",
   "execution_count": null,
   "metadata": {
    "collapsed": true
   },
   "outputs": [],
   "source": []
  },
  {
   "cell_type": "code",
   "execution_count": null,
   "metadata": {
    "collapsed": true
   },
   "outputs": [],
   "source": []
  },
  {
   "cell_type": "markdown",
   "metadata": {},
   "source": [
    "## Imputation"
   ]
  },
  {
   "cell_type": "code",
   "execution_count": 396,
   "metadata": {
    "collapsed": true
   },
   "outputs": [],
   "source": [
    "imp = Imputer(missing_values='NaN', strategy='mean', axis=0)\n",
    "X_train_imp = X_train.drop(['timestamp'], axis=1)\n",
    "train_cols = X_train_imp.columns\n",
    "X_train_imp = pd.DataFrame(imp.fit_transform(X_train_imp))\n",
    "X_train_imp.columns = train_cols\n",
    "\n",
    "imp = Imputer(missing_values='NaN', strategy='mean', axis=0)\n",
    "X_test_imp = X_test.drop(['timestamp'], axis=1)\n",
    "test_cols = X_test_imp.columns\n",
    "X_test_imp = pd.DataFrame(imp.fit_transform(X_test_imp))\n",
    "X_test_imp.columns = test_cols"
   ]
  },
  {
   "cell_type": "code",
   "execution_count": 402,
   "metadata": {},
   "outputs": [
    {
     "name": "stdout",
     "output_type": "stream",
     "text": [
      "train RMSLE:            0.472125330581\n",
      "train CV R2_Score:      0.677202077058\n",
      "train mse:              2750230.57833\n",
      "test rmsle:             0.472660793459\n",
      "test R2_Score:          0.686830739916\n",
      "test mse:               2593884.48973\n"
     ]
    }
   ],
   "source": [
    "xgr = XGBRegressor(max_depth=6, \n",
    "                   learning_rate=0.1, \n",
    "                   subsample=0.8, \n",
    "                   colsample_bytree=0.8, \n",
    "                   n_estimators=200, \n",
    "                   early_stopping_rounds=50)\n",
    "\n",
    "y_train_imp, y_test_imp, model_imp = model_eval(xgr, X_train_imp[train_cols], y_train, X_test_imp[train_cols], y_test)"
   ]
  },
  {
   "cell_type": "code",
   "execution_count": 403,
   "metadata": {},
   "outputs": [
    {
     "name": "stdout",
     "output_type": "stream",
     "text": [
      "train RMSLE:            0.471104193804\n",
      "train CV R2_Score:      0.680994390348\n",
      "train mse:              2734027.36129\n",
      "test rmsle:             0.468594020169\n",
      "test R2_Score:          0.699099346811\n",
      "test mse:               2542568.33741\n"
     ]
    }
   ],
   "source": [
    "xgr = XGBRegressor(max_depth=6, \n",
    "                   learning_rate=0.1, \n",
    "                   subsample=0.8, \n",
    "                   colsample_bytree=0.8, \n",
    "                   n_estimators=200, \n",
    "                   early_stopping_rounds=50)\n",
    "\n",
    "y_train_macro_imp, y_test_macro_imp, model_macro_imp = model_eval(xgr, X_train_imp, y_train, X_test_imp, y_test)"
   ]
  },
  {
   "cell_type": "code",
   "execution_count": null,
   "metadata": {
    "collapsed": true
   },
   "outputs": [],
   "source": []
  },
  {
   "cell_type": "code",
   "execution_count": null,
   "metadata": {
    "collapsed": true
   },
   "outputs": [],
   "source": []
  },
  {
   "cell_type": "markdown",
   "metadata": {},
   "source": [
    "## Interpretation of timestamp"
   ]
  },
  {
   "cell_type": "code",
   "execution_count": 404,
   "metadata": {
    "collapsed": true
   },
   "outputs": [],
   "source": [
    "X_train_time = X_train.copy()\n",
    "X_train_time['year'] = X_train_time['timestamp'].dt.year\n",
    "X_train_time['month'] = X_train_time['timestamp'].dt.month\n",
    "X_train_time['quarter'] = X_train_time['timestamp'].dt.quarter\n",
    "X_train_time = X_train_time.drop(['timestamp'], axis=1)\n",
    "\n",
    "X_test_time = X_test.copy()\n",
    "X_test_time['year'] = X_test_time['timestamp'].dt.year\n",
    "X_test_time['month'] = X_test_time['timestamp'].dt.month\n",
    "X_test_time['quarter'] = X_test_time['timestamp'].dt.quarter\n",
    "X_test_time = X_test_time.drop(['timestamp'], axis=1)"
   ]
  },
  {
   "cell_type": "code",
   "execution_count": 405,
   "metadata": {},
   "outputs": [
    {
     "name": "stdout",
     "output_type": "stream",
     "text": [
      "train RMSLE:            0.471889172903\n",
      "train CV R2_Score:      0.681869572739\n",
      "train mse:              2730277.33758\n",
      "test rmsle:             0.469632796517\n",
      "test R2_Score:          0.684553704598\n",
      "test mse:               2603297.40152\n"
     ]
    }
   ],
   "source": [
    "xgr = XGBRegressor(max_depth=6, \n",
    "                   learning_rate=0.1, \n",
    "                   subsample=0.8, \n",
    "                   colsample_bytree=0.8, \n",
    "                   n_estimators=200, \n",
    "                   early_stopping_rounds=50)\n",
    "\n",
    "y_train_time, y_test_time, model_time = model_eval(xgr, X_train_time[train_cols], y_train, X_test_time[train_cols], y_test)"
   ]
  },
  {
   "cell_type": "code",
   "execution_count": 406,
   "metadata": {},
   "outputs": [
    {
     "name": "stdout",
     "output_type": "stream",
     "text": [
      "train RMSLE:            0.470371430212\n",
      "train CV R2_Score:      0.679259855015\n",
      "train mse:              2741449.67506\n",
      "test rmsle:             0.46605135765\n",
      "test R2_Score:          0.7015635191\n",
      "test mse:               2532135.97981\n"
     ]
    }
   ],
   "source": [
    "xgr = XGBRegressor(max_depth=6, \n",
    "                   learning_rate=0.1, \n",
    "                   subsample=0.8, \n",
    "                   colsample_bytree=0.8, \n",
    "                   n_estimators=200, \n",
    "                   early_stopping_rounds=50)\n",
    "\n",
    "y_train_time, y_test_time, model_macro_time = model_eval(xgr, X_train_time, y_train, X_test_time, y_test)"
   ]
  },
  {
   "cell_type": "code",
   "execution_count": null,
   "metadata": {
    "collapsed": true
   },
   "outputs": [],
   "source": []
  },
  {
   "cell_type": "code",
   "execution_count": null,
   "metadata": {
    "collapsed": true
   },
   "outputs": [],
   "source": []
  },
  {
   "cell_type": "markdown",
   "metadata": {},
   "source": [
    "## handling bugs from `build_year` field:"
   ]
  },
  {
   "cell_type": "code",
   "execution_count": 407,
   "metadata": {
    "collapsed": true
   },
   "outputs": [],
   "source": [
    "X_train_by = X_train_time.copy()\n",
    "bad_index = (X_train_by.build_year == 0)\n",
    "X_train_by.ix[bad_index, 'build_year'] = X_train_by.ix[bad_index].year\n",
    "bad_index = (X_train_by.build_year == 1)\n",
    "X_train_by.ix[bad_index, 'build_year'] = X_train_by.ix[bad_index].year-1\n",
    "bad_index = (X_train_by.build_year == 3)\n",
    "X_train_by.ix[bad_index, 'build_year'] = X_train_by.ix[bad_index].year-3\n",
    "X_train_by.ix[X_train_by.build_year < 1600, 'build_year'] = np.nan\n",
    "X_train_by.ix[X_train_by.build_year > 2018, 'build_year'] = np.nan\n",
    "\n",
    "X_test_by = X_test_time.copy()\n",
    "bad_index = (X_test_by.build_year == 0)\n",
    "X_test_by.ix[bad_index, 'build_year'] = X_test_by.ix[bad_index].year\n",
    "bad_index = (X_test_by.build_year == 1)\n",
    "X_test_by.ix[bad_index, 'build_year'] = X_test_by.ix[bad_index].year-1\n",
    "bad_index = (X_test_by.build_year == 3)\n",
    "X_test_by.ix[bad_index, 'build_year'] = X_test_by.ix[bad_index].year-3\n",
    "X_test_by.ix[X_test_by.build_year < 1600, 'build_year'] = np.nan\n",
    "X_test_by.ix[X_test_by.build_year > 2018, 'build_year'] = np.nan"
   ]
  },
  {
   "cell_type": "code",
   "execution_count": 408,
   "metadata": {},
   "outputs": [
    {
     "name": "stdout",
     "output_type": "stream",
     "text": [
      "train RMSLE:            0.471302062961\n",
      "train CV R2_Score:      0.682746638287\n",
      "train mse:              2726507.15733\n",
      "test rmsle:             0.468845236055\n",
      "test R2_Score:          0.690467673637\n",
      "test mse:               2578778.70388\n"
     ]
    }
   ],
   "source": [
    "xgr = XGBRegressor(max_depth=6, \n",
    "                   learning_rate=0.1, \n",
    "                   subsample=0.8, \n",
    "                   colsample_bytree=0.8, \n",
    "                   n_estimators=200, \n",
    "                   early_stopping_rounds=50)\n",
    "\n",
    "y_train_by, y_test_by, model_by = model_eval(xgr, X_train_by[train_cols], y_train, X_test_by[train_cols], y_test)"
   ]
  },
  {
   "cell_type": "code",
   "execution_count": 409,
   "metadata": {},
   "outputs": [
    {
     "name": "stdout",
     "output_type": "stream",
     "text": [
      "train RMSLE:            0.469665428196\n",
      "train CV R2_Score:      0.685900380094\n",
      "train mse:              2712919.14779\n",
      "test rmsle:             0.466233707307\n",
      "test R2_Score:          0.703076070045\n",
      "test mse:               2525711.07857\n"
     ]
    }
   ],
   "source": [
    "xgr = XGBRegressor(max_depth=6, \n",
    "                   learning_rate=0.1, \n",
    "                   subsample=0.8, \n",
    "                   colsample_bytree=0.8, \n",
    "                   n_estimators=200, \n",
    "                   early_stopping_rounds=50)\n",
    "\n",
    "y_train_macro_by, y_test_macro_by, model_macro_by = model_eval(xgr, X_train_by, y_train, X_test_by, y_test)"
   ]
  },
  {
   "cell_type": "code",
   "execution_count": null,
   "metadata": {
    "collapsed": true
   },
   "outputs": [],
   "source": []
  },
  {
   "cell_type": "code",
   "execution_count": null,
   "metadata": {
    "collapsed": true
   },
   "outputs": [],
   "source": []
  },
  {
   "cell_type": "markdown",
   "metadata": {},
   "source": [
    "## treat wrong `build_year`s as NaN:"
   ]
  },
  {
   "cell_type": "code",
   "execution_count": 410,
   "metadata": {
    "collapsed": true
   },
   "outputs": [],
   "source": [
    "X_train_by_nan = X_train_time.copy()\n",
    "bad_index = (X_train_by_nan.build_year == 0)\n",
    "X_train_by_nan.ix[bad_index, 'build_year'] = np.nan\n",
    "bad_index = (X_train_by_nan.build_year == 1)\n",
    "X_train_by_nan.ix[bad_index, 'build_year'] = np.nan\n",
    "bad_index = (X_train_by_nan.build_year == 3)\n",
    "X_train_by_nan.ix[bad_index, 'build_year'] = np.nan\n",
    "X_train_by_nan.ix[X_train_by_nan.build_year < 1600, 'build_year'] = np.nan\n",
    "X_train_by_nan.ix[X_train_by_nan.build_year > 2018, 'build_year'] = np.nan\n",
    "\n",
    "X_test_by_nan = X_test_time.copy()\n",
    "bad_index = (X_test_by_nan.build_year == 0)\n",
    "X_test_by_nan.ix[bad_index, 'build_year'] = np.nan\n",
    "bad_index = (X_test_by_nan.build_year == 1)\n",
    "X_test_by_nan.ix[bad_index, 'build_year'] = np.nan\n",
    "bad_index = (X_test_by_nan.build_year == 3)\n",
    "X_test_by_nan.ix[bad_index, 'build_year'] = np.nan\n",
    "X_test_by_nan.ix[X_test_by_nan.build_year < 1600, 'build_year'] = np.nan\n",
    "X_test_by_nan.ix[X_test_by_nan.build_year > 2018, 'build_year'] = np.nan"
   ]
  },
  {
   "cell_type": "code",
   "execution_count": 411,
   "metadata": {},
   "outputs": [
    {
     "name": "stdout",
     "output_type": "stream",
     "text": [
      "train RMSLE:            0.471839593355\n",
      "train CV R2_Score:      0.682359657831\n",
      "train mse:              2728173.73138\n",
      "test rmsle:             0.468688946365\n",
      "test R2_Score:          0.693300377327\n",
      "test mse:               2566951.65855\n"
     ]
    }
   ],
   "source": [
    "xgr = XGBRegressor(max_depth=6, \n",
    "                   learning_rate=0.1, \n",
    "                   subsample=0.8, \n",
    "                   colsample_bytree=0.8, \n",
    "                   n_estimators=200, \n",
    "                   early_stopping_rounds=50)\n",
    "\n",
    "y_train_by_nan, y_test_by_nan, model_by_nan = model_eval(xgr, X_train_by_nan[train_cols], y_train, X_test_by_nan[train_cols], y_test)"
   ]
  },
  {
   "cell_type": "code",
   "execution_count": 412,
   "metadata": {},
   "outputs": [
    {
     "name": "stdout",
     "output_type": "stream",
     "text": [
      "train RMSLE:            0.469976410274\n",
      "train CV R2_Score:      0.685284075129\n",
      "train mse:              2715578.68991\n",
      "test rmsle:             0.466823314199\n",
      "test R2_Score:          0.694947541527\n",
      "test mse:               2560049.32994\n"
     ]
    }
   ],
   "source": [
    "xgr = XGBRegressor(max_depth=6, \n",
    "                   learning_rate=0.1, \n",
    "                   subsample=0.8, \n",
    "                   colsample_bytree=0.8, \n",
    "                   n_estimators=200, \n",
    "                   early_stopping_rounds=50)\n",
    "\n",
    "y_train_macro_by_nan, y_test_macro_by_nan, model_macro_by_nan = model_eval(xgr, X_train_by_nan, y_train, X_test_by_nan, y_test)"
   ]
  },
  {
   "cell_type": "code",
   "execution_count": null,
   "metadata": {
    "collapsed": true
   },
   "outputs": [],
   "source": []
  },
  {
   "cell_type": "code",
   "execution_count": null,
   "metadata": {
    "collapsed": true
   },
   "outputs": [],
   "source": []
  },
  {
   "cell_type": "markdown",
   "metadata": {},
   "source": [
    "## handling outlier data in `full_sq, life_sq, kitch_sq`:"
   ]
  },
  {
   "cell_type": "code",
   "execution_count": 413,
   "metadata": {
    "collapsed": true
   },
   "outputs": [],
   "source": [
    "X_train_olsq = X_train_by_nan.copy()\n",
    "X_train_olsq.ix[X_train_olsq.full_sq <= 6, 'full_sq'] = np.nan\n",
    "X_train_olsq.ix[X_train_olsq.life_sq <= 6, 'life_sq'] = np.nan\n",
    "X_train_olsq.ix[X_train_olsq.full_sq > 2000, 'full_sq'] = np.nan\n",
    "X_train_olsq.ix[X_train_olsq.life_sq > 2000, 'life_sq'] = np.nan\n",
    "bad_index = [11520, 13117, 21415, 28734]\n",
    "X_train_olsq.ix[bad_index, 'kitch_sq'] = np.nan\n",
    "\n",
    "X_test_olsq = X_test_by_nan.copy()\n",
    "X_test_olsq.ix[X_test_olsq.full_sq <= 6, 'full_sq'] = np.nan\n",
    "X_test_olsq.ix[X_test_olsq.life_sq <= 6, 'life_sq'] = np.nan\n",
    "X_test_olsq.ix[X_test_olsq.full_sq > 2000, 'full_sq'] = np.nan\n",
    "X_test_olsq.ix[X_test_olsq.life_sq > 2000, 'life_sq'] = np.nan\n",
    "bad_index = [10368]\n",
    "X_test_olsq.ix[bad_index, 'kitch_sq'] = np.nan"
   ]
  },
  {
   "cell_type": "code",
   "execution_count": 414,
   "metadata": {},
   "outputs": [
    {
     "name": "stdout",
     "output_type": "stream",
     "text": [
      "train RMSLE:            0.471469982594\n",
      "train CV R2_Score:      0.677787500076\n",
      "train mse:              2747743.1069\n",
      "test rmsle:             0.468873968732\n",
      "test R2_Score:          0.687973571324\n",
      "test mse:               2589147.30378\n"
     ]
    }
   ],
   "source": [
    "xgr = XGBRegressor(max_depth=6, \n",
    "                   learning_rate=0.1, \n",
    "                   subsample=0.8, \n",
    "                   colsample_bytree=0.8, \n",
    "                   n_estimators=200, \n",
    "                   early_stopping_rounds=50)\n",
    "\n",
    "y_train_olsq, y_test_olsq, model_olsq = model_eval(xgr, X_train_olsq[train_cols], y_train, X_test_olsq[train_cols], y_test)"
   ]
  },
  {
   "cell_type": "code",
   "execution_count": 415,
   "metadata": {},
   "outputs": [
    {
     "name": "stdout",
     "output_type": "stream",
     "text": [
      "train RMSLE:            0.470328248986\n",
      "train CV R2_Score:      0.684964092425\n",
      "train mse:              2716962.62599\n",
      "test rmsle:             0.466143182247\n",
      "test R2_Score:          0.699088450427\n",
      "test mse:               2542614.37345\n"
     ]
    }
   ],
   "source": [
    "xgr = XGBRegressor(max_depth=6, \n",
    "                   learning_rate=0.1, \n",
    "                   subsample=0.8, \n",
    "                   colsample_bytree=0.8, \n",
    "                   n_estimators=200, \n",
    "                   early_stopping_rounds=50)\n",
    "\n",
    "y_train_macro_olsq, y_test_macro_olsq, model_macro_olsq = model_eval(xgr, X_train_olsq, y_train, X_test_olsq, y_test)"
   ]
  },
  {
   "cell_type": "code",
   "execution_count": null,
   "metadata": {
    "collapsed": true
   },
   "outputs": [],
   "source": []
  },
  {
   "cell_type": "code",
   "execution_count": null,
   "metadata": {
    "collapsed": true
   },
   "outputs": [],
   "source": []
  },
  {
   "cell_type": "markdown",
   "metadata": {},
   "source": [
    "## try to correct the bad relations between `kitch-sq`, `life_sq`, `full_sq`"
   ]
  },
  {
   "cell_type": "code",
   "execution_count": 418,
   "metadata": {
    "collapsed": true
   },
   "outputs": [],
   "source": [
    "X_train_sq_cor = X_train_by_nan.copy()\n",
    "bad_index = X_train_sq_cor.kitch_sq > X_train_sq_cor.life_sq\n",
    "temp = X_train_sq_cor.ix[bad_index, 'kitch_sq']\n",
    "X_train_sq_cor.ix[bad_index, 'kitch_sq'] = X_train_sq_cor.ix[bad_index, 'life_sq']\n",
    "X_train_sq_cor.ix[bad_index, 'life_sq'] = temp\n",
    "\n",
    "bad_index = X_train_sq_cor.kitch_sq > X_train_sq_cor.full_sq\n",
    "temp = X_train_sq_cor.ix[bad_index, 'kitch_sq']\n",
    "X_train_sq_cor.ix[bad_index, 'kitch_sq'] = X_train_sq_cor.ix[bad_index, 'full_sq']\n",
    "X_train_sq_cor.ix[bad_index, 'full_sq'] = temp\n",
    "\n",
    "bad_index = X_train_sq_cor.life_sq > X_train_sq_cor.full_sq\n",
    "temp = X_train_sq_cor.ix[bad_index, 'life_sq']\n",
    "X_train_sq_cor.ix[bad_index, 'life_sq'] = X_train_sq_cor.ix[bad_index, 'full_sq']\n",
    "X_train_sq_cor.ix[bad_index, 'full_sq'] = temp\n",
    "\n",
    "\n",
    "X_test_sq_cor = X_test_by_nan.copy()\n",
    "bad_index = X_test_sq_cor.kitch_sq > X_test_sq_cor.life_sq\n",
    "temp = X_test_sq_cor.ix[bad_index, 'kitch_sq']\n",
    "X_test_sq_cor.ix[bad_index, 'kitch_sq'] = X_test_sq_cor.ix[bad_index, 'life_sq']\n",
    "X_test_sq_cor.ix[bad_index, 'life_sq'] = temp\n",
    "\n",
    "bad_index = X_test_sq_cor.kitch_sq > X_test_sq_cor.full_sq\n",
    "temp = X_test_sq_cor.ix[bad_index, 'kitch_sq']\n",
    "X_test_sq_cor.ix[bad_index, 'kitch_sq'] = X_test_sq_cor.ix[bad_index, 'full_sq']\n",
    "X_test_sq_cor.ix[bad_index, 'full_sq'] = temp\n",
    "\n",
    "bad_index = X_test_sq_cor.life_sq > X_test_sq_cor.full_sq\n",
    "temp = X_test_sq_cor.ix[bad_index, 'life_sq']\n",
    "X_test_sq_cor.ix[bad_index, 'life_sq'] = X_test_sq_cor.ix[bad_index, 'full_sq']\n",
    "X_test_sq_cor.ix[bad_index, 'full_sq'] = temp"
   ]
  },
  {
   "cell_type": "code",
   "execution_count": 419,
   "metadata": {},
   "outputs": [
    {
     "name": "stdout",
     "output_type": "stream",
     "text": [
      "train RMSLE:            0.471475102698\n",
      "train CV R2_Score:      0.674277035916\n",
      "train mse:              2762660.33947\n",
      "test rmsle:             0.46877001211\n",
      "test R2_Score:          0.700619451054\n",
      "test mse:               2536137.87181\n"
     ]
    }
   ],
   "source": [
    "xgr = XGBRegressor(max_depth=6, \n",
    "                   learning_rate=0.1, \n",
    "                   subsample=0.8, \n",
    "                   colsample_bytree=0.8, \n",
    "                   n_estimators=200, \n",
    "                   early_stopping_rounds=50)\n",
    "\n",
    "y_train_sq_cor, y_test_sq_cor, model_sq_cor = model_eval(xgr, X_train_sq_cor[train_cols], y_train, X_test_sq_cor[train_cols], y_test)"
   ]
  },
  {
   "cell_type": "code",
   "execution_count": 420,
   "metadata": {},
   "outputs": [
    {
     "name": "stdout",
     "output_type": "stream",
     "text": [
      "train RMSLE:            0.470264610438\n",
      "train CV R2_Score:      0.679773504738\n",
      "train mse:              2739251.48662\n",
      "test rmsle:             0.465257647144\n",
      "test R2_Score:          0.711000354993\n",
      "test mse:               2491780.16138\n"
     ]
    }
   ],
   "source": [
    "xgr = XGBRegressor(max_depth=6, \n",
    "                   learning_rate=0.1, \n",
    "                   subsample=0.8, \n",
    "                   colsample_bytree=0.8, \n",
    "                   n_estimators=200, \n",
    "                   early_stopping_rounds=50)\n",
    "\n",
    "y_train_macro_sq_cor, y_test_macro_sq_cor, model_macro_sq_cor = model_eval(xgr, X_train_sq_cor, y_train, X_test_sq_cor, y_test)"
   ]
  },
  {
   "cell_type": "code",
   "execution_count": null,
   "metadata": {
    "collapsed": true
   },
   "outputs": [],
   "source": []
  },
  {
   "cell_type": "markdown",
   "metadata": {},
   "source": [
    "## treat the bad values of `kitch-sq`, `life_sq`, `full_sq` as NaN"
   ]
  },
  {
   "cell_type": "code",
   "execution_count": 421,
   "metadata": {
    "collapsed": true
   },
   "outputs": [],
   "source": [
    "X_train_sq_nan = X_train_by_nan.copy()\n",
    "bad_index = X_train_sq_nan.kitch_sq > X_train_sq_nan.life_sq\n",
    "X_train_sq_nan.ix[bad_index, 'kitch_sq'] = np.nan\n",
    "bad_index = X_train_sq_nan.kitch_sq > X_train_sq_nan.full_sq\n",
    "X_train_sq_nan.ix[bad_index, 'kitch_sq'] = np.nan\n",
    "bad_index = X_train_sq_nan.life_sq > X_train_sq_nan.full_sq\n",
    "X_train_sq_nan.ix[bad_index, 'life_sq'] = np.nan\n",
    "\n",
    "X_test_sq_nan = X_test_by_nan.copy()\n",
    "bad_index = X_test_sq_nan.kitch_sq > X_test_sq_nan.life_sq\n",
    "X_test_sq_nan.ix[bad_index, 'kitch_sq'] = np.nan\n",
    "bad_index = X_test_sq_nan.kitch_sq > X_test_sq_nan.full_sq\n",
    "X_test_sq_nan.ix[bad_index, 'kitch_sq'] = np.nan\n",
    "bad_index = X_test_sq_nan.life_sq > X_test_sq_nan.full_sq\n",
    "X_test_sq_nan.ix[bad_index, 'life_sq'] = np.nan"
   ]
  },
  {
   "cell_type": "code",
   "execution_count": 422,
   "metadata": {},
   "outputs": [
    {
     "name": "stdout",
     "output_type": "stream",
     "text": [
      "train RMSLE:            0.471501571481\n",
      "train CV R2_Score:      0.683167505539\n",
      "train mse:              2724701.60208\n",
      "test rmsle:             0.469159404948\n",
      "test R2_Score:          0.692285354709\n",
      "test mse:               2571195.81411\n"
     ]
    }
   ],
   "source": [
    "xgr = XGBRegressor(max_depth=6, \n",
    "                   learning_rate=0.1, \n",
    "                   subsample=0.8, \n",
    "                   colsample_bytree=0.8, \n",
    "                   n_estimators=200, \n",
    "                   early_stopping_rounds=50)\n",
    "\n",
    "y_train_sq_nan, y_test_sq_nan, model_sq_nan = model_eval(xgr, X_train_sq_nan[train_cols], y_train, X_test_sq_nan[train_cols], y_test)"
   ]
  },
  {
   "cell_type": "code",
   "execution_count": 423,
   "metadata": {},
   "outputs": [
    {
     "name": "stdout",
     "output_type": "stream",
     "text": [
      "train RMSLE:            0.470419295596\n",
      "train CV R2_Score:      0.685249175137\n",
      "train mse:              2715734.10422\n",
      "test rmsle:             0.465798337217\n",
      "test R2_Score:          0.698998593767\n",
      "test mse:               2542993.97633\n"
     ]
    }
   ],
   "source": [
    "xgr = XGBRegressor(max_depth=6, \n",
    "                   learning_rate=0.1, \n",
    "                   subsample=0.8, \n",
    "                   colsample_bytree=0.8, \n",
    "                   n_estimators=200, \n",
    "                   early_stopping_rounds=50)\n",
    "\n",
    "y_train_macro_sq_nan, y_test_macro_sq_nan, model_macro_sq_nan = model_eval(xgr, X_train_sq_nan, y_train, X_test_sq_nan, y_test)"
   ]
  },
  {
   "cell_type": "code",
   "execution_count": null,
   "metadata": {
    "collapsed": true
   },
   "outputs": [],
   "source": []
  },
  {
   "cell_type": "code",
   "execution_count": null,
   "metadata": {
    "collapsed": true
   },
   "outputs": [],
   "source": []
  },
  {
   "cell_type": "markdown",
   "metadata": {},
   "source": [
    "## treat outliers in `num_room` as NaN"
   ]
  },
  {
   "cell_type": "code",
   "execution_count": 424,
   "metadata": {
    "collapsed": true
   },
   "outputs": [],
   "source": [
    "X_train_room = X_train_by_nan.copy()\n",
    "bad_index = X_train_room.ix[(X_train_room.num_room>=6) & (X_train_room.full_sq<100)].index\n",
    "X_train_room.ix[bad_index, 'num_room'] = np.nan\n",
    "\n",
    "X_test_room = X_test_by_nan.copy()\n",
    "bad_index = X_test_room.ix[(X_test_room.num_room>=6) & (X_test_room.full_sq<100)].index\n",
    "X_test_room.ix[bad_index, 'num_room'] = np.nan"
   ]
  },
  {
   "cell_type": "code",
   "execution_count": 425,
   "metadata": {},
   "outputs": [
    {
     "name": "stdout",
     "output_type": "stream",
     "text": [
      "train RMSLE:            0.471653750005\n",
      "train CV R2_Score:      0.682806943763\n",
      "train mse:              2726250.72267\n",
      "test rmsle:             0.468247437838\n",
      "test R2_Score:          0.692974705482\n",
      "test mse:               2568314.16769\n"
     ]
    }
   ],
   "source": [
    "xgr = XGBRegressor(max_depth=6, \n",
    "                   learning_rate=0.1, \n",
    "                   subsample=0.8, \n",
    "                   colsample_bytree=0.8, \n",
    "                   n_estimators=200, \n",
    "                   early_stopping_rounds=50)\n",
    "\n",
    "y_train_room, y_test_room, model_room = model_eval(xgr, X_train_room[train_cols], y_train, X_test_room[train_cols], y_test)"
   ]
  },
  {
   "cell_type": "code",
   "execution_count": 426,
   "metadata": {},
   "outputs": [
    {
     "name": "stdout",
     "output_type": "stream",
     "text": [
      "train RMSLE:            0.469813872092\n",
      "train CV R2_Score:      0.687314919626\n",
      "train mse:              2706804.59335\n",
      "test rmsle:             0.465831191293\n",
      "test R2_Score:          0.702523331543\n",
      "test mse:               2528060.85323\n"
     ]
    }
   ],
   "source": [
    "xgr = XGBRegressor(max_depth=6, \n",
    "                   learning_rate=0.1, \n",
    "                   subsample=0.8, \n",
    "                   colsample_bytree=0.8, \n",
    "                   n_estimators=200, \n",
    "                   early_stopping_rounds=50)\n",
    "\n",
    "y_train_macro_room, y_test_macro_room, model_macro_room = model_eval(xgr, X_train_room, y_train, X_test_room, y_test)"
   ]
  },
  {
   "cell_type": "code",
   "execution_count": null,
   "metadata": {
    "collapsed": true
   },
   "outputs": [],
   "source": []
  },
  {
   "cell_type": "code",
   "execution_count": null,
   "metadata": {
    "collapsed": true
   },
   "outputs": [],
   "source": []
  },
  {
   "cell_type": "markdown",
   "metadata": {},
   "source": [
    "## Replacing `floor` with `max_floor` for wrong values"
   ]
  },
  {
   "cell_type": "code",
   "execution_count": 427,
   "metadata": {
    "collapsed": true
   },
   "outputs": [],
   "source": [
    "X_train_floor = X_train_room.copy()\n",
    "bad_index = X_train_floor.floor > X_train_floor.max_floor\n",
    "temp = X_train_floor.ix[bad_index, 'floor']\n",
    "X_train_floor.ix[bad_index, 'floor'] = X_train_floor.ix[bad_index, 'max_floor']\n",
    "X_train_floor.ix[bad_index, 'max_floor'] = temp\n",
    "\n",
    "X_test_floor = X_test_room.copy()\n",
    "bad_index = X_test_floor.floor > X_test_floor.max_floor\n",
    "temp = X_test_floor.ix[bad_index, 'floor']\n",
    "X_test_floor.ix[bad_index, 'floor'] = X_test_floor.ix[bad_index, 'max_floor']\n",
    "X_test_floor.ix[bad_index, 'max_floor'] = temp"
   ]
  },
  {
   "cell_type": "code",
   "execution_count": 428,
   "metadata": {},
   "outputs": [
    {
     "name": "stdout",
     "output_type": "stream",
     "text": [
      "train RMSLE:            0.471750147515\n",
      "train CV R2_Score:      0.679582990943\n",
      "train mse:              2740069.01804\n",
      "test rmsle:             0.468794735434\n",
      "test R2_Score:          0.688778890812\n",
      "test mse:               2585803.93652\n"
     ]
    }
   ],
   "source": [
    "xgr = XGBRegressor(max_depth=6, \n",
    "                   learning_rate=0.1, \n",
    "                   subsample=0.8, \n",
    "                   colsample_bytree=0.8, \n",
    "                   n_estimators=200, \n",
    "                   early_stopping_rounds=50)\n",
    "\n",
    "y_train_floor, y_test_floor, mode_floor = model_eval(xgr, X_train_floor[train_cols], y_train, X_test_floor[train_cols], y_test)"
   ]
  },
  {
   "cell_type": "code",
   "execution_count": 429,
   "metadata": {},
   "outputs": [
    {
     "name": "stdout",
     "output_type": "stream",
     "text": [
      "train RMSLE:            0.469498989628\n",
      "train CV R2_Score:      0.685683764192\n",
      "train mse:              2713860.0449\n",
      "test rmsle:             0.466811367815\n",
      "test R2_Score:          0.69964862586\n",
      "test mse:               2540246.61189\n"
     ]
    }
   ],
   "source": [
    "xgr = XGBRegressor(max_depth=6, \n",
    "                   learning_rate=0.1, \n",
    "                   subsample=0.8, \n",
    "                   colsample_bytree=0.8, \n",
    "                   n_estimators=200, \n",
    "                   early_stopping_rounds=50)\n",
    "\n",
    "y_train_macro_floor, y_test_macro_floor, model_macro_floor = model_eval(xgr, X_train_floor, y_train, X_test_floor, y_test)"
   ]
  },
  {
   "cell_type": "code",
   "execution_count": null,
   "metadata": {
    "collapsed": true
   },
   "outputs": [],
   "source": []
  },
  {
   "cell_type": "code",
   "execution_count": null,
   "metadata": {
    "collapsed": true
   },
   "outputs": [],
   "source": []
  },
  {
   "cell_type": "markdown",
   "metadata": {},
   "source": [
    "## treat wring values in `floor` as NaN"
   ]
  },
  {
   "cell_type": "code",
   "execution_count": 430,
   "metadata": {
    "collapsed": true
   },
   "outputs": [],
   "source": [
    "X_train_floor_nan = X_train_room.copy()\n",
    "bad_index = X_train_floor_nan.floor > X_train_floor_nan.max_floor\n",
    "X_train_floor_nan.ix[bad_index, 'floor'] = np.nan\n",
    "\n",
    "X_test_floor_nan = X_test_room.copy()\n",
    "bad_index = X_test_floor_nan.floor > X_test_floor_nan.max_floor\n",
    "X_test_floor_nan.ix[bad_index, 'floor'] = np.nan"
   ]
  },
  {
   "cell_type": "code",
   "execution_count": 431,
   "metadata": {},
   "outputs": [
    {
     "name": "stdout",
     "output_type": "stream",
     "text": [
      "train RMSLE:            0.471160603045\n",
      "train CV R2_Score:      0.68446714468\n",
      "train mse:              2719099.10427\n",
      "test rmsle:             0.47019142996\n",
      "test R2_Score:          0.687546536036\n",
      "test mse:               2590918.43456\n"
     ]
    }
   ],
   "source": [
    "xgr = XGBRegressor(max_depth=6, \n",
    "                   learning_rate=0.1, \n",
    "                   subsample=0.8, \n",
    "                   colsample_bytree=0.8, \n",
    "                   n_estimators=200, \n",
    "                   early_stopping_rounds=50)\n",
    "\n",
    "y_train_floor_nan, y_test_floor_nan, model_floor_nan = model_eval(xgr, X_train_floor_nan[train_cols], y_train, X_test_floor_nan[train_cols], y_test)"
   ]
  },
  {
   "cell_type": "code",
   "execution_count": 432,
   "metadata": {},
   "outputs": [
    {
     "name": "stdout",
     "output_type": "stream",
     "text": [
      "train RMSLE:            0.470101157574\n",
      "train CV R2_Score:      0.686663676266\n",
      "train mse:              2709620.19403\n",
      "test rmsle:             0.466778328079\n",
      "test R2_Score:          0.70244241287\n",
      "test mse:               2528404.66745\n"
     ]
    }
   ],
   "source": [
    "xgr = XGBRegressor(max_depth=6, \n",
    "                   learning_rate=0.1, \n",
    "                   subsample=0.8, \n",
    "                   colsample_bytree=0.8, \n",
    "                   n_estimators=200, \n",
    "                   early_stopping_rounds=50)\n",
    "\n",
    "y_train_macro_floor_nan, y_test_macro_floor_nan, model_macro_floor_nan = model_eval(xgr, X_train_floor_nan, y_train, X_test_floor_nan, y_test)"
   ]
  },
  {
   "cell_type": "code",
   "execution_count": null,
   "metadata": {
    "collapsed": true
   },
   "outputs": [],
   "source": []
  },
  {
   "cell_type": "code",
   "execution_count": null,
   "metadata": {
    "collapsed": true
   },
   "outputs": [],
   "source": []
  },
  {
   "cell_type": "markdown",
   "metadata": {},
   "source": [
    "## remove outlier from `state`"
   ]
  },
  {
   "cell_type": "code",
   "execution_count": 433,
   "metadata": {
    "collapsed": true
   },
   "outputs": [],
   "source": [
    "X_train_state = X_train_floor_nan.copy()\n",
    "X_train_state.ix[X_train_state.state > 30, 'state'] = np.nan\n",
    "\n",
    "X_test_state = X_test_floor_nan.copy()\n",
    "X_test_state.ix[X_test_state.state > 30, 'state'] = np.nan"
   ]
  },
  {
   "cell_type": "code",
   "execution_count": 434,
   "metadata": {},
   "outputs": [
    {
     "name": "stdout",
     "output_type": "stream",
     "text": [
      "train RMSLE:            0.471356346238\n",
      "train CV R2_Score:      0.682132988996\n",
      "train mse:              2729147.79091\n",
      "test rmsle:             0.469443501768\n",
      "test R2_Score:          0.69020472146\n",
      "test mse:               2579873.8262\n"
     ]
    }
   ],
   "source": [
    "xgr = XGBRegressor(max_depth=6, \n",
    "                   learning_rate=0.1, \n",
    "                   subsample=0.8, \n",
    "                   colsample_bytree=0.8, \n",
    "                   n_estimators=200, \n",
    "                   early_stopping_rounds=50)\n",
    "\n",
    "y_train_state, y_test_state, model_state = model_eval(xgr, X_train_state[train_cols], y_train, X_test_state[train_cols], y_test)"
   ]
  },
  {
   "cell_type": "code",
   "execution_count": 435,
   "metadata": {},
   "outputs": [
    {
     "name": "stdout",
     "output_type": "stream",
     "text": [
      "train RMSLE:            0.470066637429\n",
      "train CV R2_Score:      0.686721547451\n",
      "train mse:              2709371.54627\n",
      "test rmsle:             0.465975297501\n",
      "test R2_Score:          0.70225947509\n",
      "test mse:               2529181.77697\n"
     ]
    }
   ],
   "source": [
    "xgr = XGBRegressor(max_depth=6, \n",
    "                   learning_rate=0.1, \n",
    "                   subsample=0.8, \n",
    "                   colsample_bytree=0.8, \n",
    "                   n_estimators=200, \n",
    "                   early_stopping_rounds=50)\n",
    "\n",
    "y_train_macro_state, y_test_macro_state, model_macro_state = model_eval(xgr, X_train_state, y_train, X_test_state, y_test)"
   ]
  },
  {
   "cell_type": "code",
   "execution_count": null,
   "metadata": {
    "collapsed": true
   },
   "outputs": [],
   "source": []
  },
  {
   "cell_type": "code",
   "execution_count": null,
   "metadata": {
    "collapsed": true
   },
   "outputs": [],
   "source": []
  },
  {
   "cell_type": "markdown",
   "metadata": {},
   "source": [
    "## Adding age instead of build_year"
   ]
  },
  {
   "cell_type": "code",
   "execution_count": 438,
   "metadata": {
    "collapsed": true
   },
   "outputs": [],
   "source": [
    "X_train_age = X_train_floor_nan\n",
    "X_train_age['age'] = X_train_age.year - X_train_age['build_year']\n",
    "#X_train_age = X_train_age.drop('build_year', axis=1)\n",
    "\n",
    "X_test_age = X_test_floor_nan\n",
    "X_test_age['age'] = X_test_age.year - X_test_age['build_year']\n",
    "#X_test_age = X_test_age.drop('build_year', axis=1)"
   ]
  },
  {
   "cell_type": "code",
   "execution_count": 439,
   "metadata": {},
   "outputs": [
    {
     "name": "stdout",
     "output_type": "stream",
     "text": [
      "train RMSLE:            0.472554629412\n",
      "train CV R2_Score:      0.677587723146\n",
      "train mse:              2748587.20182\n",
      "test rmsle:             0.469171383231\n",
      "test R2_Score:          0.6871434238\n",
      "test mse:               2592589.2342\n"
     ]
    }
   ],
   "source": [
    "xgr = XGBRegressor(max_depth=6, \n",
    "                   learning_rate=0.1, \n",
    "                   subsample=0.8, \n",
    "                   colsample_bytree=0.8, \n",
    "                   n_estimators=200, \n",
    "                   early_stopping_rounds=50)\n",
    "\n",
    "y_train_age, y_test_age, model_age = model_eval(xgr, \n",
    "                                                X_train_age[train_cols].drop('build_year', axis=1),y_train, \n",
    "                                                X_test_age[train_cols].drop('build_year', axis=1), y_test)"
   ]
  },
  {
   "cell_type": "code",
   "execution_count": 440,
   "metadata": {},
   "outputs": [
    {
     "name": "stdout",
     "output_type": "stream",
     "text": [
      "train RMSLE:            0.470739608554\n",
      "train CV R2_Score:      0.681978094944\n",
      "train mse:              2729809.13468\n",
      "test rmsle:             0.467001148968\n",
      "test R2_Score:          0.694770396992\n",
      "test mse:               2560792.53478\n"
     ]
    }
   ],
   "source": [
    "xgr = XGBRegressor(max_depth=6, \n",
    "                   learning_rate=0.1, \n",
    "                   subsample=0.8, \n",
    "                   colsample_bytree=0.8, \n",
    "                   n_estimators=200, \n",
    "                   early_stopping_rounds=50)\n",
    "\n",
    "y_train_macro_age, y_test_macro_age, model_macro_age = model_eval(xgr, \n",
    "                                                                  X_train_age.drop('build_year', axis=1), y_train,\n",
    "                                                                  X_test_age.drop('build_year', axis=1), y_test)"
   ]
  },
  {
   "cell_type": "code",
   "execution_count": null,
   "metadata": {
    "collapsed": true
   },
   "outputs": [],
   "source": []
  },
  {
   "cell_type": "code",
   "execution_count": null,
   "metadata": {
    "collapsed": true
   },
   "outputs": [],
   "source": []
  },
  {
   "cell_type": "markdown",
   "metadata": {},
   "source": [
    "## Some feature engineering"
   ]
  },
  {
   "cell_type": "code",
   "execution_count": 441,
   "metadata": {
    "collapsed": true
   },
   "outputs": [],
   "source": [
    "X_train_sq_ratio = X_train_floor_nan.copy()\n",
    "X_train_sq_ratio['life_ratio'] = X_train_sq_ratio['life_sq']/X_train_sq_ratio['full_sq']\n",
    "X_train_sq_ratio['kitch_ratio'] = X_train_sq_ratio['kitch_sq']/X_train_sq_ratio['life_sq']\n",
    "X_train_sq_ratio['room_sq'] = X_train_sq_ratio['life_sq']/X_train_sq_ratio['num_room']\n",
    "\n",
    "X_test_sq_ratio = X_test_floor_nan.copy()\n",
    "X_test_sq_ratio['life_ratio'] = X_test_sq_ratio['life_sq']/X_test_sq_ratio['full_sq']\n",
    "X_test_sq_ratio['kitch_ratio'] = X_test_sq_ratio['kitch_sq']/X_test_sq_ratio['life_sq']\n",
    "X_test_sq_ratio['room_sq'] = X_test_sq_ratio['life_sq']/X_test_sq_ratio['num_room']"
   ]
  },
  {
   "cell_type": "code",
   "execution_count": 442,
   "metadata": {},
   "outputs": [
    {
     "name": "stdout",
     "output_type": "stream",
     "text": [
      "train RMSLE:            0.473220000335\n",
      "train CV R2_Score:      0.681748085584\n",
      "train mse:              2730801.13802\n",
      "test rmsle:             0.472017302177\n",
      "test R2_Score:          0.682826229664\n",
      "test mse:               2610415.87299\n"
     ]
    }
   ],
   "source": [
    "xgr = XGBRegressor(max_depth=6, \n",
    "                   learning_rate=0.1, \n",
    "                   subsample=0.8, \n",
    "                   colsample_bytree=0.8, \n",
    "                   n_estimators=350, \n",
    "                   early_stopping_rounds=50)\n",
    "\n",
    "y_train_sq_ratio, y_test_sq_ratio, model_sq_ratio = model_eval(xgr, X_train_sq_ratio[train_cols], y_train, X_test_sq_ratio[train_cols], y_test)"
   ]
  },
  {
   "cell_type": "code",
   "execution_count": 443,
   "metadata": {},
   "outputs": [
    {
     "name": "stdout",
     "output_type": "stream",
     "text": [
      "train RMSLE:            0.471652186127\n",
      "train CV R2_Score:      0.677742695625\n",
      "train mse:              2747924.36736\n",
      "test rmsle:             0.468629357369\n",
      "test R2_Score:          0.701290764585\n",
      "test mse:               2533292.832\n"
     ]
    }
   ],
   "source": [
    "xgr = XGBRegressor(max_depth=6, \n",
    "                   learning_rate=0.1, \n",
    "                   subsample=0.8, \n",
    "                   colsample_bytree=0.8, \n",
    "                   n_estimators=350, \n",
    "                   early_stopping_rounds=50)\n",
    "\n",
    "y_train_macro_sq_ratio, y_test_macro_sq_ratio, model_macro_sq_ratio = model_eval(xgr, X_train_sq_ratio, y_train, X_test_sq_ratio, y_test)"
   ]
  },
  {
   "cell_type": "code",
   "execution_count": null,
   "metadata": {
    "collapsed": true
   },
   "outputs": [],
   "source": []
  },
  {
   "cell_type": "code",
   "execution_count": null,
   "metadata": {
    "collapsed": true
   },
   "outputs": [],
   "source": []
  },
  {
   "cell_type": "markdown",
   "metadata": {},
   "source": [
    "## All bug removal from dataset and feature engineering"
   ]
  },
  {
   "cell_type": "code",
   "execution_count": 444,
   "metadata": {
    "collapsed": true
   },
   "outputs": [],
   "source": [
    "X_train_eng_all = X_train.copy()\n",
    "\n",
    "X_train_eng_all.ix[X_train_eng_all.full_sq <= 6, 'full_sq'] = np.nan\n",
    "X_train_eng_all.ix[X_train_eng_all.life_sq <= 6, 'life_sq'] = np.nan\n",
    "\n",
    "X_train_eng_all.ix[X_train_eng_all.full_sq > 2000, 'full_sq'] = np.nan\n",
    "X_train_eng_all.ix[X_train_eng_all.life_sq > 2000, 'life_sq'] = np.nan\n",
    "\n",
    "bad_index = [11520, 13117, 21415, 28734]\n",
    "X_train_eng_all.ix[bad_index, 'kitch_sq'] = np.nan\n",
    "\n",
    "bad_index = X_train_eng_all.ix[(X_train_eng_all.num_room>=6) & (X_train_eng_all.full_sq<100)].index\n",
    "X_train_eng_all.ix[bad_index, 'num_room'] = np.nan\n",
    "\n",
    "bad_index = X_train_eng_all.kitch_sq > X_train_eng_all.life_sq\n",
    "X_train_eng_all.ix[bad_index, 'kitch_sq'] = np.nan\n",
    "\n",
    "bad_index = X_train_eng_all.kitch_sq > X_train_eng_all.full_sq\n",
    "X_train_eng_all.ix[bad_index, 'kitch_sq'] = np.nan\n",
    "\n",
    "bad_index = X_train_eng_all.life_sq > X_train_eng_all.full_sq\n",
    "X_train_eng_all.ix[bad_index, 'life_sq'] = np.nan\n",
    "\n",
    "bad_index = X_train_eng_all.floor > X_train_eng_all.max_floor\n",
    "X_train_eng_all.ix[bad_index, 'floor'] = np.nan\n",
    "\n",
    "X_train_eng_all.ix[X_train_eng_all.state > 30, 'state'] = np.nan\n",
    "\n",
    "X_train_eng_all.timestamp = pd.to_datetime(X_train_eng_all.timestamp)\n",
    "bad_index = (X_train_eng_all.build_year <= 0)\n",
    "X_train_eng_all.ix[bad_index, 'build_year'] = np.nan\n",
    "X_train_eng_all.ix[X_train_eng_all.build_year < 1600, 'build_year'] = np.nan\n",
    "X_train_eng_all.ix[X_train_eng_all.build_year > 2018, 'build_year'] = np.nan\n",
    "\n",
    "X_train_eng_all = X_train_eng_all.drop('timestamp', axis=1)\n",
    "\n",
    "\n",
    "\n",
    "X_test_eng_all = X_test.copy()\n",
    "\n",
    "X_test_eng_all.ix[X_test_eng_all.full_sq <= 6, 'full_sq'] = np.nan\n",
    "X_test_eng_all.ix[X_test_eng_all.life_sq <= 6, 'life_sq'] = np.nan\n",
    "\n",
    "X_test_eng_all.ix[X_test_eng_all.full_sq > 2000, 'full_sq'] = np.nan\n",
    "X_test_eng_all.ix[X_test_eng_all.life_sq > 2000, 'life_sq'] = np.nan\n",
    "\n",
    "bad_index = [10368]\n",
    "X_test_eng_all.ix[bad_index, 'kitch_sq'] = np.nan\n",
    "\n",
    "bad_index = X_test_eng_all.ix[(X_test_eng_all.num_room>=6) & (X_test_eng_all.full_sq<100)].index\n",
    "X_test_eng_all.ix[bad_index, 'num_room'] = np.nan\n",
    "\n",
    "bad_index = X_test_eng_all.kitch_sq > X_test_eng_all.life_sq\n",
    "X_test_eng_all.ix[bad_index, 'kitch_sq'] = np.nan\n",
    "\n",
    "bad_index = X_test_eng_all.kitch_sq > X_test_eng_all.full_sq\n",
    "X_test_eng_all.ix[bad_index, 'kitch_sq'] = np.nan\n",
    "\n",
    "bad_index = X_test_eng_all.life_sq > X_test_eng_all.full_sq\n",
    "X_test_eng_all.ix[bad_index, 'life_sq'] = np.nan\n",
    "\n",
    "bad_index = X_test_eng_all.floor > X_test_eng_all.max_floor\n",
    "X_test_eng_all.ix[bad_index, 'floor'] = np.nan\n",
    "\n",
    "X_test_eng_all.ix[X_test_eng_all.state > 30, 'state'] = np.nan\n",
    "\n",
    "X_test_eng_all.timestamp = pd.to_datetime(X_test_eng_all.timestamp)\n",
    "bad_index = (X_test_eng_all.build_year <= 0)\n",
    "X_test_eng_all.ix[bad_index, 'build_year'] = np.nan\n",
    "X_test_eng_all.ix[X_test_eng_all.build_year < 1600, 'build_year'] = np.nan\n",
    "X_test_eng_all.ix[X_test_eng_all.build_year > 2018, 'build_year'] = np.nan\n",
    "\n",
    "X_test_eng_all = X_test_eng_all.drop('timestamp', axis=1)"
   ]
  },
  {
   "cell_type": "code",
   "execution_count": 445,
   "metadata": {},
   "outputs": [
    {
     "name": "stdout",
     "output_type": "stream",
     "text": [
      "train RMSLE:            0.474416968508\n",
      "train CV R2_Score:      0.674801120567\n",
      "train mse:              2760436.78232\n",
      "test rmsle:             0.471518402576\n",
      "test R2_Score:          0.685335877558\n",
      "test mse:               2600067.86185\n"
     ]
    }
   ],
   "source": [
    "xgr = XGBRegressor(max_depth=6, \n",
    "                   learning_rate=0.1, \n",
    "                   subsample=0.8, \n",
    "                   colsample_bytree=0.8, \n",
    "                   n_estimators=350, \n",
    "                   early_stopping_rounds=50)\n",
    "\n",
    "y_train_eng_all, y_test_eng_all, model_eng_all = model_eval(xgr, X_train_eng_all[train_cols], y_train, X_test_eng_all[train_cols], y_test)"
   ]
  },
  {
   "cell_type": "code",
   "execution_count": 446,
   "metadata": {},
   "outputs": [
    {
     "name": "stdout",
     "output_type": "stream",
     "text": [
      "train RMSLE:            0.470656586558\n",
      "train CV R2_Score:      0.685335342986\n",
      "train mse:              2715361.09495\n",
      "test rmsle:             0.468537370241\n",
      "test R2_Score:          0.699719732343\n",
      "test mse:               2539945.89961\n"
     ]
    }
   ],
   "source": [
    "xgr = XGBRegressor(max_depth=6, \n",
    "                   learning_rate=0.1, \n",
    "                   subsample=0.8, \n",
    "                   colsample_bytree=0.8, \n",
    "                   n_estimators=350, \n",
    "                   early_stopping_rounds=50)\n",
    "\n",
    "y_train_macro_eng_all, y_test_macro_eng_all, model_macro_eng_all = model_eval(xgr, X_train_eng_all, y_train, X_test_eng_all, y_test)"
   ]
  },
  {
   "cell_type": "code",
   "execution_count": null,
   "metadata": {
    "collapsed": true
   },
   "outputs": [],
   "source": []
  },
  {
   "cell_type": "code",
   "execution_count": null,
   "metadata": {
    "collapsed": true
   },
   "outputs": [],
   "source": []
  },
  {
   "cell_type": "markdown",
   "metadata": {},
   "source": [
    "## Imputation + Feature Engineering"
   ]
  },
  {
   "cell_type": "code",
   "execution_count": 447,
   "metadata": {
    "collapsed": true
   },
   "outputs": [],
   "source": [
    "imp = Imputer(missing_values='NaN', strategy='mean', axis=0)\n",
    "train_cols = X_train_eng_all.columns\n",
    "X_train_eng_imp = pd.DataFrame(imp.fit_transform(X_train_eng_all))\n",
    "X_train_eng_imp.columns = train_cols\n",
    "\n",
    "imp = Imputer(missing_values='NaN', strategy='mean', axis=0)\n",
    "test_cols = X_test_eng_all.columns\n",
    "X_test_eng_imp = pd.DataFrame(imp.fit_transform(X_test_eng_all))\n",
    "X_test_eng_imp.columns = test_cols"
   ]
  },
  {
   "cell_type": "code",
   "execution_count": 448,
   "metadata": {},
   "outputs": [
    {
     "name": "stdout",
     "output_type": "stream",
     "text": [
      "train RMSLE:            0.471940910082\n",
      "train CV R2_Score:      0.681918720615\n",
      "train mse:              2730063.8908\n",
      "test rmsle:             0.468659594957\n",
      "test R2_Score:          0.705131501361\n",
      "test mse:               2516953.88412\n"
     ]
    }
   ],
   "source": [
    "xgr = XGBRegressor(max_depth=6, \n",
    "                   learning_rate=0.1, \n",
    "                   subsample=0.8, \n",
    "                   colsample_bytree=0.8, \n",
    "                   n_estimators=350, \n",
    "                   early_stopping_rounds=50)\n",
    "\n",
    "y_train_eng_imp, y_test_eng_imp, model_eng_imp = model_eval(xgr, X_train_eng_imp[train_cols], y_train, X_test_eng_imp[train_cols], y_test)"
   ]
  },
  {
   "cell_type": "code",
   "execution_count": 449,
   "metadata": {},
   "outputs": [
    {
     "name": "stdout",
     "output_type": "stream",
     "text": [
      "train RMSLE:            0.471940910082\n",
      "train CV R2_Score:      0.681918720615\n",
      "train mse:              2730063.8908\n",
      "test rmsle:             0.468659594957\n",
      "test R2_Score:          0.705131501361\n",
      "test mse:               2516953.88412\n"
     ]
    }
   ],
   "source": [
    "xgr = XGBRegressor(max_depth=6, \n",
    "                   learning_rate=0.1, \n",
    "                   subsample=0.8, \n",
    "                   colsample_bytree=0.8, \n",
    "                   n_estimators=350, \n",
    "                   early_stopping_rounds=50)\n",
    "\n",
    "y_train_macro_macro_eng_imp, y_test_macro_macro_eng_imp, model_macro_eng_imp = model_eval(xgr, X_train_eng_imp, y_train, X_test_eng_imp, y_test)"
   ]
  },
  {
   "cell_type": "code",
   "execution_count": null,
   "metadata": {
    "collapsed": true
   },
   "outputs": [],
   "source": []
  },
  {
   "cell_type": "code",
   "execution_count": null,
   "metadata": {
    "collapsed": true
   },
   "outputs": [],
   "source": []
  },
  {
   "cell_type": "markdown",
   "metadata": {},
   "source": [
    "## Feature importance"
   ]
  },
  {
   "cell_type": "code",
   "execution_count": 459,
   "metadata": {
    "collapsed": true
   },
   "outputs": [],
   "source": [
    "xgb_params = {\n",
    "    'eta': 0.05,\n",
    "    'max_depth': 8,\n",
    "    'subsample': 0.7,\n",
    "    'colsample_bytree': 0.7,\n",
    "    'objective': 'reg:linear',\n",
    "    'eval_metric': 'rmse',\n",
    "    'silent': 1\n",
    "}\n",
    "\n",
    "dtrain = xgb.DMatrix(X_train[train_cols], y_train)\n",
    "\n",
    "model_xgb = xgb.train(dict(xgb_params,silent=0),dtrain,num_boost_round=100)"
   ]
  },
  {
   "cell_type": "code",
   "execution_count": 453,
   "metadata": {
    "scrolled": false
   },
   "outputs": [
    {
     "data": {
      "text/plain": [
       "<function matplotlib.pyplot.show>"
      ]
     },
     "execution_count": 453,
     "metadata": {},
     "output_type": "execute_result"
    },
    {
     "data": {
      "image/png": "[encoded data removed]",
      "text/plain": [
       "<matplotlib.figure.Figure at 0x359706d8>"
      ]
     },
     "metadata": {},
     "output_type": "display_data"
    }
   ],
   "source": [
    "fig,ax=plt.subplots(figsize = (12,18))\n",
    "xgb.plot_importance(model_xgb, max_num_features=50, height=0.8, ax=ax)\n",
    "plt.show"
   ]
  },
  {
   "cell_type": "code",
   "execution_count": 454,
   "metadata": {
    "collapsed": true
   },
   "outputs": [],
   "source": [
    "imporatan_cols = model_xgb.feature_names[:100]\n",
    "X_train_feat_imp = X_train[imporatan_cols]\n",
    "X_test_feat_imp = X_test[imporatan_cols]"
   ]
  },
  {
   "cell_type": "code",
   "execution_count": 455,
   "metadata": {},
   "outputs": [
    {
     "name": "stdout",
     "output_type": "stream",
     "text": [
      "train RMSLE:            0.471995577659\n",
      "train CV R2_Score:      0.680524626757\n",
      "train mse:              2736038.60932\n",
      "test rmsle:             0.468594099689\n",
      "test R2_Score:          0.67806740436\n",
      "test mse:               2629926.09771\n"
     ]
    }
   ],
   "source": [
    "xgr = XGBRegressor(max_depth=6, \n",
    "                   learning_rate=0.1, \n",
    "                   subsample=0.8, \n",
    "                   colsample_bytree=0.8, \n",
    "                   n_estimators=350, \n",
    "                   early_stopping_rounds=50)\n",
    "\n",
    "y_train_feat_imp, y_test_feat_imp, model_feat_eng = model_eval(xgr, X_train_feat_imp, y_train, X_test_feat_imp, y_test)"
   ]
  },
  {
   "cell_type": "code",
   "execution_count": null,
   "metadata": {
    "collapsed": true
   },
   "outputs": [],
   "source": []
  },
  {
   "cell_type": "code",
   "execution_count": null,
   "metadata": {
    "collapsed": true
   },
   "outputs": [],
   "source": []
  },
  {
   "cell_type": "code",
   "execution_count": null,
   "metadata": {
    "collapsed": true
   },
   "outputs": [],
   "source": []
  },
  {
   "cell_type": "markdown",
   "metadata": {},
   "source": [
    "## Using feature importance on train_macro"
   ]
  },
  {
   "cell_type": "code",
   "execution_count": 456,
   "metadata": {
    "collapsed": true
   },
   "outputs": [],
   "source": [
    "xgb_params = {\n",
    "    'eta': 0.05,\n",
    "    'max_depth': 8,\n",
    "    'subsample': 0.7,\n",
    "    'colsample_bytree': 0.7,\n",
    "    'objective': 'reg:linear',\n",
    "    'eval_metric': 'rmse',\n",
    "    'silent': 1\n",
    "}\n",
    "\n",
    "dtrain = xgb.DMatrix(X_train.drop('timestamp', axis=1), y_train)\n",
    "\n",
    "model_xgb = xgb.train(dict(xgb_params,silent=0),dtrain,num_boost_round=100)"
   ]
  },
  {
   "cell_type": "code",
   "execution_count": 366,
   "metadata": {},
   "outputs": [
    {
     "data": {
      "text/plain": [
       "<function matplotlib.pyplot.show>"
      ]
     },
     "execution_count": 366,
     "metadata": {},
     "output_type": "execute_result"
    },
    {
     "data": {
      "image/png": "[encoded data removed]",
      "text/plain": [
       "<matplotlib.figure.Figure at 0x2f3d5e48>"
      ]
     },
     "metadata": {},
     "output_type": "display_data"
    }
   ],
   "source": [
    "fig,ax=plt.subplots(figsize = (12,18))\n",
    "xgb.plot_importance(model_xgb, max_num_features=50, height=0.8, ax=ax)\n",
    "plt.show"
   ]
  },
  {
   "cell_type": "code",
   "execution_count": 462,
   "metadata": {
    "collapsed": true
   },
   "outputs": [],
   "source": [
    "imporatan_cols = model_xgb.feature_names[:300]\n",
    "X_train_macro_feat_imp = X_train[imporatan_cols]\n",
    "X_test_macro_feat_imp = X_test[imporatan_cols]"
   ]
  },
  {
   "cell_type": "code",
   "execution_count": 463,
   "metadata": {},
   "outputs": [
    {
     "name": "stdout",
     "output_type": "stream",
     "text": [
      "train RMSLE:            0.471123298111\n",
      "train CV R2_Score:      0.681362129797\n",
      "train mse:              2732452.04567\n",
      "test rmsle:             0.467915196598\n",
      "test R2_Score:          0.70478050264\n",
      "test mse:               2518451.47516\n"
     ]
    }
   ],
   "source": [
    "xgr = XGBRegressor(max_depth=6, \n",
    "                   learning_rate=0.1, \n",
    "                   subsample=0.8, \n",
    "                   colsample_bytree=0.8, \n",
    "                   n_estimators=350, \n",
    "                   early_stopping_rounds=50)\n",
    "\n",
    "y_train_macro_feat_imp, y_test_macro_feat_imp, model_macro_feat_imp = model_eval(xgr, X_train_macro_feat_imp, y_train, X_test_macro_feat_imp, y_test)"
   ]
  },
  {
   "cell_type": "code",
   "execution_count": null,
   "metadata": {
    "collapsed": true
   },
   "outputs": [],
   "source": []
  },
  {
   "cell_type": "code",
   "execution_count": null,
   "metadata": {
    "collapsed": true
   },
   "outputs": [],
   "source": []
  },
  {
   "cell_type": "markdown",
   "metadata": {},
   "source": [
    "## Dimension Reduction"
   ]
  },
  {
   "cell_type": "code",
   "execution_count": 287,
   "metadata": {
    "collapsed": true
   },
   "outputs": [],
   "source": [
    "n_comp = 150\n",
    "\n",
    "# tSVD\n",
    "tsvd = TruncatedSVD(n_components=n_comp, random_state=420)\n",
    "X_train_svd = tsvd.fit_transform(X_train_eng_imp)\n",
    "X_test_svd = tsvd.transform(X_test_eng_imp)\n",
    "\n",
    "# PCA\n",
    "pca = PCA(n_components=n_comp, random_state=420)\n",
    "X_train_pca = pca.fit_transform(X_train_eng_imp)\n",
    "X_test_pca = pca.transform(X_test_eng_imp)\n",
    "\n",
    "# ICA\n",
    "ica = FastICA(n_components=n_comp, random_state=420)\n",
    "X_train_ica = ica.fit_transform(X_train_eng_imp)\n",
    "X_test_ica = ica.transform(X_test_eng_imp)"
   ]
  },
  {
   "cell_type": "code",
   "execution_count": 275,
   "metadata": {},
   "outputs": [
    {
     "name": "stdout",
     "output_type": "stream",
     "text": [
      "train CV R2_Score:      0.619290649059\n",
      "train mse:              2986761.20475\n",
      "test R2_Score:          0.65103434539\n",
      "test mse:               2738119.58693\n"
     ]
    }
   ],
   "source": [
    "xgr = XGBRegressor(max_depth=6, \n",
    "                   learning_rate=0.1, \n",
    "                   subsample=0.8, \n",
    "                   colsample_bytree=0.8, \n",
    "                   n_estimators=350, \n",
    "                   early_stopping_rounds=50)\n",
    "\n",
    "y_train_ica, y_test_ica = model_eval(xgr, X_train_ica, y_train, X_test_ica, y_test)"
   ]
  },
  {
   "cell_type": "code",
   "execution_count": 279,
   "metadata": {},
   "outputs": [
    {
     "name": "stdout",
     "output_type": "stream",
     "text": [
      "train CV R2_Score:      0.646555606527\n",
      "train mse:              2877820.96837\n",
      "test R2_Score:          0.653132551254\n",
      "test mse:               2729875.50843\n"
     ]
    }
   ],
   "source": [
    "xgr = XGBRegressor(max_depth=6, \n",
    "                   learning_rate=0.1, \n",
    "                   subsample=0.8, \n",
    "                   colsample_bytree=0.8, \n",
    "                   n_estimators=350, \n",
    "                   early_stopping_rounds=50)\n",
    "\n",
    "y_train_pca, y_test_pca = model_eval(xgr, X_train_pca, y_train, X_test_pca, y_test)"
   ]
  },
  {
   "cell_type": "code",
   "execution_count": 280,
   "metadata": {},
   "outputs": [
    {
     "name": "stdout",
     "output_type": "stream",
     "text": [
      "train CV R2_Score:      0.645979178442\n",
      "train mse:              2880164.79102\n",
      "test R2_Score:          0.660793844359\n",
      "test mse:               2699559.67141\n"
     ]
    }
   ],
   "source": [
    "xgr = XGBRegressor(max_depth=6, \n",
    "                   learning_rate=0.1, \n",
    "                   subsample=0.8, \n",
    "                   colsample_bytree=0.8, \n",
    "                   n_estimators=350, \n",
    "                   early_stopping_rounds=50)\n",
    "\n",
    "y_train_svd, y_test_svd = model_eval(xgr, X_train_svd, y_train, X_test_svd, y_test)"
   ]
  },
  {
   "cell_type": "code",
   "execution_count": null,
   "metadata": {
    "collapsed": true
   },
   "outputs": [],
   "source": []
  },
  {
   "cell_type": "code",
   "execution_count": null,
   "metadata": {
    "collapsed": true
   },
   "outputs": [],
   "source": []
  },
  {
   "cell_type": "code",
   "execution_count": null,
   "metadata": {
    "collapsed": true
   },
   "outputs": [],
   "source": []
  },
  {
   "cell_type": "code",
   "execution_count": null,
   "metadata": {
    "collapsed": true
   },
   "outputs": [],
   "source": []
  },
  {
   "cell_type": "code",
   "execution_count": null,
   "metadata": {
    "collapsed": true
   },
   "outputs": [],
   "source": []
  },
  {
   "cell_type": "code",
   "execution_count": null,
   "metadata": {
    "collapsed": true
   },
   "outputs": [],
   "source": []
  }
 ],
 "metadata": {
  "kernelspec": {
   "display_name": "Python 2",
   "language": "python",
   "name": "python2"
  },
  "language_info": {
   "codemirror_mode": {
    "name": "ipython",
    "version": 2
   },
   "file_extension": ".py",
   "mimetype": "text/x-python",
   "name": "python",
   "nbconvert_exporter": "python",
   "pygments_lexer": "ipython2",
   "version": "2.7.13"
  }
 },
 "nbformat": 4,
 "nbformat_minor": 2
}
