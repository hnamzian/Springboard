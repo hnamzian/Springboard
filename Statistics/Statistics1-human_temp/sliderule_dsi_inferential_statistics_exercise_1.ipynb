{
 "cells": [
  {
   "cell_type": "markdown",
   "metadata": {},
   "source": [
    "# What is the True Normal Human Body Temperature? \n",
    "\n",
    "#### Background\n",
    "\n",
    "The mean normal body temperature was held to be 37$^{\\circ}$C or 98.6$^{\\circ}$F for more than 120 years since it was first conceptualized and reported by Carl Wunderlich in a famous 1868 book. But, is this value statistically correct?"
   ]
  },
  {
   "cell_type": "markdown",
   "metadata": {},
   "source": [
    "<div class=\"span5 alert alert-info\">\n",
    "<h3>Exercises</h3>\n",
    "\n",
    "<p>In this exercise, you will analyze a dataset of human body temperatures and employ the concepts of hypothesis testing, confidence intervals, and statistical significance.</p>\n",
    "\n",
    "<p>Answer the following questions <b>in this notebook below and submit to your Github account</b>.</p> \n",
    "\n",
    "<ol>\n",
    "<li>  Is the distribution of body temperatures normal? \n",
    "    <ul>\n",
    "    <li> Although this is not a requirement for CLT to hold (read CLT carefully), it gives us some peace of mind that the population may also be normally distributed if we assume that this sample is representative of the population.\n",
    "    </ul>\n",
    "<li>  Is the sample size large? Are the observations independent?\n",
    "    <ul>\n",
    "    <li> Remember that this is a condition for the CLT, and hence the statistical tests we are using, to apply.\n",
    "    </ul>\n",
    "<li>  Is the true population mean really 98.6 degrees F?\n",
    "    <ul>\n",
    "    <li> Would you use a one-sample or two-sample test? Why?\n",
    "    <li> In this situation, is it appropriate to use the $t$ or $z$ statistic? \n",
    "    <li> Now try using the other test. How is the result be different? Why?\n",
    "    </ul>\n",
    "<li>  At what temperature should we consider someone's temperature to be \"abnormal\"?\n",
    "    <ul>\n",
    "    <li> Start by computing the margin of error and confidence interval.\n",
    "    </ul>\n",
    "<li>  Is there a significant difference between males and females in normal temperature?\n",
    "    <ul>\n",
    "    <li> What test did you use and why?\n",
    "    <li> Write a story with your conclusion in the context of the original problem.\n",
    "    </ul>\n",
    "</ol>\n",
    "\n",
    "You can include written notes in notebook cells using Markdown: \n",
    "   - In the control panel at the top, choose Cell > Cell Type > Markdown\n",
    "   - Markdown syntax: http://nestacms.com/docs/creating-content/markdown-cheat-sheet\n",
    "\n",
    "#### Resources\n",
    "\n",
    "+ Information and data sources: http://www.amstat.org/publications/jse/datasets/normtemp.txt, http://www.amstat.org/publications/jse/jse_data_archive.htm\n",
    "+ Markdown syntax: http://nestacms.com/docs/creating-content/markdown-cheat-sheet\n",
    "\n",
    "****"
   ]
  },
  {
   "cell_type": "code",
   "execution_count": 24,
   "metadata": {
    "collapsed": true
   },
   "outputs": [],
   "source": [
    "import pandas as pd\n",
    "import numpy as np\n",
    "import scipy as scp\n",
    "from scipy import stats\n",
    "import matplotlib.pyplot as plt\n",
    "import seaborn as sns\n",
    "%matplotlib inline\n",
    "\n",
    "import test_Stats as ts\n",
    "import resampler_Stat as rs\n",
    "\n",
    "df = pd.read_csv('data/human_body_temperature.csv')"
   ]
  },
  {
   "cell_type": "code",
   "execution_count": 25,
   "metadata": {},
   "outputs": [
    {
     "data": {
      "text/html": [
       "<div>\n",
       "<table border=\"1\" class=\"dataframe\">\n",
       "  <thead>\n",
       "    <tr style=\"text-align: right;\">\n",
       "      <th></th>\n",
       "      <th>temperature</th>\n",
       "      <th>gender</th>\n",
       "      <th>heart_rate</th>\n",
       "    </tr>\n",
       "  </thead>\n",
       "  <tbody>\n",
       "    <tr>\n",
       "      <th>0</th>\n",
       "      <td>99.3</td>\n",
       "      <td>F</td>\n",
       "      <td>68.0</td>\n",
       "    </tr>\n",
       "    <tr>\n",
       "      <th>1</th>\n",
       "      <td>98.4</td>\n",
       "      <td>F</td>\n",
       "      <td>81.0</td>\n",
       "    </tr>\n",
       "    <tr>\n",
       "      <th>2</th>\n",
       "      <td>97.8</td>\n",
       "      <td>M</td>\n",
       "      <td>73.0</td>\n",
       "    </tr>\n",
       "    <tr>\n",
       "      <th>3</th>\n",
       "      <td>99.2</td>\n",
       "      <td>F</td>\n",
       "      <td>66.0</td>\n",
       "    </tr>\n",
       "    <tr>\n",
       "      <th>4</th>\n",
       "      <td>98.0</td>\n",
       "      <td>F</td>\n",
       "      <td>73.0</td>\n",
       "    </tr>\n",
       "  </tbody>\n",
       "</table>\n",
       "</div>"
      ],
      "text/plain": [
       "   temperature gender  heart_rate\n",
       "0         99.3      F        68.0\n",
       "1         98.4      F        81.0\n",
       "2         97.8      M        73.0\n",
       "3         99.2      F        66.0\n",
       "4         98.0      F        73.0"
      ]
     },
     "execution_count": 25,
     "metadata": {},
     "output_type": "execute_result"
    }
   ],
   "source": [
    "df.head()"
   ]
  },
  {
   "cell_type": "markdown",
   "metadata": {
    "collapsed": true
   },
   "source": [
    "<div class=\"span5 alert alert-info\">\n",
    "\n",
    "**Q1.** Is the distribution of body temperatures normal? \n",
    "- Although this is not a requirement for CLT to hold (read CLT carefully), it gives us some peace of mind that the population may also be normally distributed if we assume that this sample is representative of the population.\n",
    " \n",
    "\n",
    "****\n",
    "**A1: **\n",
    "\n",
    "- As shown in the figure below, the sample distribution of the population of humon temperature is likely (but not completely) to normal distribution. A **positive skewness** can be seen in the sample histogram in comparison to normal distribution. To judge if the real population distribution, much more sample's needed.\n",
    "\n",
    "- The scipy API, 'stats.normaltest', tests the null hypothesis that a sample comes from a normal distribution. The function returns a combincation of kurtosis and skewnes in addition to pvalue of the null hypothesis testing. The result of this null hypothesis is shows more than 29% chance, so the assumption of coming out from a normal distribution cannot be rejected. However the pvalue is not a large value, therefor the certainity of the assumption is not high."
   ]
  },
  {
   "cell_type": "markdown",
   "metadata": {},
   "source": [
    "#### sample distribution of the human's temperature:\n",
    "\n",
    "The distribution is likely to normal distribution with a positive skewness."
   ]
  },
  {
   "cell_type": "code",
   "execution_count": 26,
   "metadata": {},
   "outputs": [
    {
     "data": {
      "text/plain": [
       "<matplotlib.text.Text at 0xe31f860>"
      ]
     },
     "execution_count": 26,
     "metadata": {},
     "output_type": "execute_result"
    },
    {
     "data": {
      "image/png": "[encoded data removed]",
      "text/plain": [
       "<matplotlib.figure.Figure at 0xcd215c0>"
      ]
     },
     "metadata": {},
     "output_type": "display_data"
    }
   ],
   "source": [
    "#removing duplicated data to make observation independant\n",
    "#the sample distribution has some similarity to normal distribution, but it has positive skewness\n",
    "temp = df.drop_duplicates(keep='first').reset_index()\n",
    "sns.distplot(temp.temperature, rug=True, bins=10)\n",
    "plt.xlabel('Temperature')\n",
    "plt.ylabel('Probability')\n",
    "plt.title('Temperature distribution')"
   ]
  },
  {
   "cell_type": "markdown",
   "metadata": {},
   "source": [
    "Testing the normality using **stats.normaltest()**\n",
    "\n",
    "29% chance for the temperature sample to be from a normal distribution."
   ]
  },
  {
   "cell_type": "code",
   "execution_count": 27,
   "metadata": {},
   "outputs": [
    {
     "data": {
      "text/plain": [
       "NormaltestResult(statistic=2.4305227728869379, pvalue=0.29663246845382457)"
      ]
     },
     "execution_count": 27,
     "metadata": {},
     "output_type": "execute_result"
    }
   ],
   "source": [
    "stats.normaltest(temp.temperature)"
   ]
  },
  {
   "cell_type": "markdown",
   "metadata": {},
   "source": [
    "<div class=\"span5 alert alert-info\">\n",
    "\n",
    "**Q2. **Is the sample size large? Are the observations independent?\n",
    "- Remember that this is a condition for the CLT, and hence the statistical tests we are using, to apply.\n",
    "****\n",
    "\n",
    "**A2:**\n",
    "\n",
    "- To see the dependency in observation data, we seek for data points with the same values for all of their columns. So, here we search if there is some data with the same gender, temperature and heart rate, and remove these duplicated rows. As shown in the first figure below, there are 3 duplicate pairs in the original data, but all of them are removed after refining data, as shown in the next figure.\n",
    "\n",
    "\n",
    "- After refining the sample by dropping duplicates out, there is still 127 data in the batch.\n",
    "\n",
    "\n",
    "- Now we can be sure enough that the CLT condition is satisfied, as the sample size is greater than 30 and the observations are independent."
   ]
  },
  {
   "cell_type": "markdown",
   "metadata": {},
   "source": [
    "#### Observation dependency:\n",
    "\n",
    "Repeatition of data points in Original data and Refined data. In Refined data the duplicted points are removed."
   ]
  },
  {
   "cell_type": "code",
   "execution_count": 28,
   "metadata": {},
   "outputs": [
    {
     "data": {
      "text/plain": [
       "<matplotlib.text.Text at 0xd416198>"
      ]
     },
     "execution_count": 28,
     "metadata": {},
     "output_type": "execute_result"
    },
    {
     "data": {
      "image/png": "[encoded data removed]",
      "text/plain": [
       "<matplotlib.figure.Figure at 0xded6128>"
      ]
     },
     "metadata": {},
     "output_type": "display_data"
    }
   ],
   "source": [
    "# Finding the duplicate data using plot\n",
    "figure, axes = plt.subplots(1,2, figsize=[12,4])\n",
    "group_orig = df.groupby(['gender', 'temperature', 'heart_rate']).size()\n",
    "axes[0].plot(range(len(group_orig)), group_orig)\n",
    "axes[0].set_ylim([0.8,2.2])\n",
    "axes[0].set_xlabel('sample index')\n",
    "axes[0].set_ylabel('Repitions')\n",
    "axes[0].set_title('Original Sample row Repition')\n",
    "\n",
    "# checking the dependency of data (duplicate values)\n",
    "temp = df.drop_duplicates()\n",
    "group_refined = temp.groupby(['gender', 'temperature', 'heart_rate']).size()\n",
    "axes[1].plot(range(len(group_refined)), group_refined)\n",
    "axes[1].set_ylim([0.8,2.2])\n",
    "axes[1].set_xlabel('sample index')\n",
    "axes[1].set_ylabel('Repitions')\n",
    "axes[1].set_title('Refined Sample row Repition')"
   ]
  },
  {
   "cell_type": "code",
   "execution_count": 29,
   "metadata": {},
   "outputs": [
    {
     "name": "stdout",
     "output_type": "stream",
     "text": [
      "Original data Sample Size: 130\n",
      "Refined data Sample Size:  127\n"
     ]
    }
   ],
   "source": [
    "print 'Original data Sample Size: %d' % len(df)\n",
    "print 'Refined data Sample Size:  %d' % len(temp)"
   ]
  },
  {
   "cell_type": "markdown",
   "metadata": {},
   "source": [
    "<div class=\"span5 alert alert-info\">\n",
    "\n",
    "**Q3.** Is the true population mean really 98.6 degrees F?\n",
    "\n",
    "- Would you use a one-sample or two-sample test? Why?\n",
    "- In this situation, is it appropriate to use the $t$ or $z$ statistic?\n",
    "- Now try using the other test. How is the result be different? Why? \n",
    "\n",
    "***\n",
    "\n",
    "**A3:**\n",
    "\n",
    "- For this hypothesis testing, **one-sample** test must be used, as we have one sample to be compared and analyzed statistically.\n",
    "\n",
    "\n",
    "- As we know t-test is used for small sample size *(n<30)* and z-test for large sample size *(n>30)*. On the other hand, when the sample size is much more than 30, it's expected for both methods to have close results. So, although it's prefered to use z-test because the sample size is more than 30, but we must get reasonable results with t-test. As seen in the results related to Confidence intervals and p_values, both t-test and z-test have results close to each other.\n",
    "\n",
    "- To check, if the average temperature of the real population is the assumed value, 98.6 F, we hold up a hypothesis test using the concept of NHST. for this we consider null and alternative hypothesises as below:\n",
    "    \n",
    "    $H_0: \\bar{\\theta} = 98.6$\n",
    "    \n",
    "    $H_a: \\bar{\\theta} \\neq 98.6$\n",
    "    \n",
    "    Assuming the $H_0$ is true, we consider a normal distibution for sample mean random variable, with the mean ($\\mu_\\bar{\\theta}$) of 98.6 and the estimated standard deviation($\\sigma_\\bar{\\theta}=0.065395$). with this hypothesis the probability of having a sample with sample mean ($\\mu_\\theta$) of 98.247244 can be computed using z-test. Note that t-test must have a close result to z-test. This probability is computed to be p_value $\\simeq 0$ for both tests. So, the null hypothesis $H_0$, assuming the average human's temperature to be 98.6 is rejected."
   ]
  },
  {
   "cell_type": "markdown",
   "metadata": {},
   "source": [
    "Sample Statistics and estimate Std of sample mean are generated by instantiation of hypothesisTest_oneSample object"
   ]
  },
  {
   "cell_type": "code",
   "execution_count": 30,
   "metadata": {},
   "outputs": [
    {
     "name": "stdout",
     "output_type": "stream",
     "text": [
      "sample size: 127\n",
      "sample_mean: 98.247244\n",
      "sample_std:  0.736968\n",
      "SE(sample_mean std): 0.065395\n"
     ]
    }
   ],
   "source": [
    "temp_hypo = ts.hypothesisTest_oneSample(temp.temperature)"
   ]
  },
  {
   "cell_type": "markdown",
   "metadata": {},
   "source": [
    "p_value is computed close to zero, so the under null-Hypothesis is rejected."
   ]
  },
  {
   "cell_type": "code",
   "execution_count": 31,
   "metadata": {},
   "outputs": [
    {
     "name": "stdout",
     "output_type": "stream",
     "text": [
      "z-test pValue for H0: 0.000007%\n",
      "t_test pValue for H0: 0.000033%\n",
      "t-test pValue for H0 using scipy API: 0.000036%\n"
     ]
    }
   ],
   "source": [
    "_, pValue_zTest = temp_hypo.pValue_zTest(98.6)\n",
    "print 'z-test pValue for H0: %f%%' % (pValue_zTest*100)\n",
    "\n",
    "_, pValue_tTest = temp_hypo.pValue_tTest(98.6)\n",
    "print 't_test pValue for H0: %f%%' % (pValue_tTest*100)\n",
    "\n",
    "# pvalue evaluation by scipy\n",
    "temp_tStats_api = scp.stats.ttest_1samp(temp.temperature, 98.6)\n",
    "print 't-test pValue for H0 using scipy API: %f%%' % (temp_tStats_api.pvalue*100)"
   ]
  },
  {
   "cell_type": "markdown",
   "metadata": {},
   "source": [
    "<div class=\"span5 alert alert-info\">\n",
    "\n",
    "**Q4. **At what temperature should we consider someone's temperature to be \"abnormal\"?\n",
    "\n",
    "- Start by computing the margin of error and confidence interval. \n",
    "***\n",
    "**A4:**\n",
    "- Using the computed sample statistics, mean ($\\mu_\\theta = 98.247244$) and standard deviation ($\\sigma_\\theta = 0.736968$), and estimating the population standard deviation with sample standard deviation, now, we can compute a 99% confidence interval for population mean, or the population average human's temperature. As shown below, the 99% confidence interval is computed [98.0787968,   98.41569139] using z-test and [98.07620826,  98.41827992] using t-test. The marginal error is computed 0.168447 and 0.171036 for z-test and t-test respectively.\n",
    "\n",
    "\n",
    "- To check if the computations mentioned above is true, a simulation based on resampling method is held up to compute the 99% confidence interval. As seen the simulation interval is [98.0999685,   98.39690551] close to theoretical results.\n",
    "\n",
    "\n",
    "- Having the 99% confidence interval we assume the temperatures out of this bound as abnormal temperatures for human body. So, the temperature greater than 98.42 F and lower than 98.08 F could be considered as abnormal temperatures."
   ]
  },
  {
   "cell_type": "markdown",
   "metadata": {},
   "source": [
    "The theoretical approach is used to compute 99% Confidence Interval of population mean using z-test and t-test:"
   ]
  },
  {
   "cell_type": "code",
   "execution_count": 32,
   "metadata": {},
   "outputs": [
    {
     "name": "stdout",
     "output_type": "stream",
     "text": [
      "z-test 99% CI: [ 98.0787968   98.41569139]\n",
      "z-test 99% ME: 0.168447\n",
      "t-test 99% CI: [ 98.07620826  98.41827992]\n",
      "t-test 99% ME: 0.171036\n"
     ]
    }
   ],
   "source": [
    "pcg = 99\n",
    "CI_zTest, ME_zTest = temp_hypo.CI_zTest(pcg)\n",
    "print 'z-test %d%% CI: ' % pcg + str(CI_zTest)\n",
    "print 'z-test %d%% ME: %f' % (pcg, ME_zTest)\n",
    "\n",
    "CI_tTest, ME_tTest = temp_hypo.CI_tTest(pcg)\n",
    "print 't-test %d%% CI: ' % pcg + str(CI_tTest)\n",
    "print 't-test %d%% ME: %f' % (pcg, ME_tTest)"
   ]
  },
  {
   "cell_type": "markdown",
   "metadata": {},
   "source": [
    "99% Confidence Interval and population distribution is computed by Resampling:\n",
    "\n",
    "It's very cool that Simulation and Theoretical approaches have close results."
   ]
  },
  {
   "cell_type": "code",
   "execution_count": 33,
   "metadata": {
    "scrolled": true
   },
   "outputs": [
    {
     "name": "stdout",
     "output_type": "stream",
     "text": [
      " sample_stats mean: 98.246740\n",
      " sample_stats std:  0.063249\n",
      " 99% sample_stats mean: [ 98.0960315  98.3874252]\n"
     ]
    },
    {
     "data": {
      "image/png": "[encoded data removed]",
      "text/plain": [
       "<matplotlib.figure.Figure at 0xe053400>"
      ]
     },
     "metadata": {},
     "output_type": "display_data"
    }
   ],
   "source": [
    "temp_resampler = rs.Resampler(temp.temperature, title='Average temperature distribution')\n",
    "temp_resampler.plot_sample_stats(pcg)"
   ]
  },
  {
   "cell_type": "markdown",
   "metadata": {},
   "source": [
    "<div class=\"span5 alert alert-info\">\n",
    "**Q5.**\n",
    "Is there a significant difference between males and females in normal temperature?\n",
    "- What test did you use and why?\n",
    "- Write a story with your conclusion in the context of the original problem.\n",
    "\n",
    "****\n",
    "\n",
    "**A5.**\n",
    "\n",
    "<ol>\n",
    "<li> Effect size:</li>\n",
    "<ul>\n",
    "<li> By seperating the sample based on male and female, we can check the statistics of men's and women's temperature independently. The first look shows a difference in average temperature of two groups. The sample mean for men's and women's temperature are 98.095238 and 98.396875 respectively. So it's reasonable to investigate if 0.3 F difference can be seen in average temperature of men and women.</li>\n",
    "<li> The Analysis based on Simulation also shows that the sample mean distribution of Men's and Woman's temperature are separable. However, the same analysis for heart rate shows that the heart rate distribution of men and women is not well separable.</li>\n",
    "</ul>\n",
    "\n",
    "\n",
    "<li> Confidence Interval:</li>\n",
    "<ul>\n",
    "<li> With respect to sample size larger than 30, the best solution to compute confidence interval is to use z-test, however the t-test also has a close result to z-test.The 95% confidence interval for expected difference sample mean is computed via z-test as shown below:\n",
    "<br><br>\n",
    "$ 95\\% CI = [-0.55244308, -0.05083073] $\n",
    "<br><br>\n",
    "The negative 95% CI states that expected sample mean value for men's temperature is lower than one's for women.\n",
    "\n",
    "</li>\n",
    "</ul> \n",
    "\n",
    "<li> Hypotheis Test:</li>\n",
    "<ul>\n",
    "<li> To check wether this temperature difference is a probable occurance or not, we hold up a Hypothesis test, with the null and alternative assumptions as below:\n",
    "<br><br>\n",
    "$H_0: \\bar\\theta_m = \\bar\\theta_w$\n",
    "<br>\n",
    "$H_a: \\bar\\theta_m < \\bar\\theta_w$\n",
    "<br><br>\n",
    "    \n",
    "For this problem, as the sample size of each group is more than 30, so we use z-test. However, as before, for large sample size, t-test might have close results to z-test.\n",
    "<br>\n",
    "The computations for both z-test and t-test show the p_value $<$ 1%, meaning: under null hypothesis less than 1% chance exists to have a sample with such statistics we got. Therefore, reasonably the null hypothesis is rejected, and the alternative hypothesis, 0.3 F women's greater temperature by average, is approved.</li>\n",
    "</ul>\n",
    "\n",
    "\n",
    "<li> Sanity Check:\n",
    "<ul>\n",
    "<li>There might be some suspect about the above result. The temperature difference might be refered to differences in heart rates. Therefore we hold up another hypothesis test to check if there is meaningful difference in men's and women's heart rate:\n",
    "\n",
    "$H_0: \\bar{HR_m} = \\bar{HR_w}$    \n",
    "$H_a: \\bar{HR_m} \\neq \\bar{HR_w}$\n",
    "    \n",
    "Under null hypothesis, the p_value is computed more than 44%. So, the null hypothesis can not be rejected, and the average temperature difference between men and women can not be refered to a meaningful difference in their heart rate. In fact this test is done to check if a notable bias in sampling could be seen.</li>\n",
    "</ul>\n",
    "</ol>\n"
   ]
  },
  {
   "cell_type": "code",
   "execution_count": 34,
   "metadata": {
    "collapsed": true
   },
   "outputs": [],
   "source": [
    "temp_men = temp.temperature[df.gender=='M'].values\n",
    "temp_women = temp.temperature[df.gender=='F'].values\n",
    "hr_men = temp.heart_rate[df.gender=='M'].values\n",
    "hr_women = temp.heart_rate[df.gender=='F'].values"
   ]
  },
  {
   "cell_type": "markdown",
   "metadata": {},
   "source": [
    "### Simulation based Analysis\n",
    "\n",
    "Comparison of estimated population distribution and Statistics of Men's and Women's temperature. A meaningful difference can be seen."
   ]
  },
  {
   "cell_type": "code",
   "execution_count": 35,
   "metadata": {},
   "outputs": [
    {
     "name": "stdout",
     "output_type": "stream",
     "text": [
      "Men sample_stats mean: 98.091216\n",
      "Men sample_stats std:  0.086919\n",
      "Men 95% sample_stats mean: [ 97.94603175  98.2375    ]\n",
      "Women sample_stats mean: 98.399630\n",
      "Women sample_stats std:  0.096501\n",
      "Women 95% sample_stats mean: [ 98.2334127  98.5640625]\n"
     ]
    },
    {
     "data": {
      "image/png": "[encoded data removed]",
      "text/plain": [
       "<matplotlib.figure.Figure at 0xcda55f8>"
      ]
     },
     "metadata": {},
     "output_type": "display_data"
    }
   ],
   "source": [
    "resampler_wm = rs.Resampler_new([temp_men, temp_women], \n",
    "                             legend=['Men', 'Women'],\n",
    "                             title='Men vs Women Average Temperature distribution')\n",
    "stats = resampler_wm.plot_sample_stats(95)"
   ]
  },
  {
   "cell_type": "markdown",
   "metadata": {},
   "source": [
    "Comparison of estimated population distribution and Statistics of Men's and Women's Heart Rate. In conterary to temperature, the Heart Rate distributions are highly overlapping."
   ]
  },
  {
   "cell_type": "code",
   "execution_count": 36,
   "metadata": {},
   "outputs": [
    {
     "name": "stdout",
     "output_type": "stream",
     "text": [
      "Men sample_stats mean: 73.198492\n",
      "Men sample_stats std:  0.739917\n",
      "Men 95% sample_stats mean: [ 72.01587302  72.46796875]\n",
      "Women sample_stats mean: 74.135781\n",
      "Women sample_stats std:  1.028202\n",
      "Women 95% sample_stats mean: [ 74.3968254   75.87578125]\n"
     ]
    },
    {
     "data": {
      "image/png": "[encoded data removed]",
      "text/plain": [
       "<matplotlib.figure.Figure at 0xdeb77f0>"
      ]
     },
     "metadata": {},
     "output_type": "display_data"
    }
   ],
   "source": [
    "resampler_wm = rs.Resampler_new([hr_men, hr_women], \n",
    "                             legend=['Men', 'Women'],\n",
    "                             title='Men vs Women Average Heart Rate distribution')\n",
    "resampler_wm.plot_sample_stats(95)"
   ]
  },
  {
   "cell_type": "markdown",
   "metadata": {},
   "source": [
    "### Theoretical Analysis\n",
    "\n",
    "Sample and difference sample mean Statistics are computed by DiffMeanhypothesisTest_twoSample class."
   ]
  },
  {
   "cell_type": "code",
   "execution_count": 37,
   "metadata": {},
   "outputs": [
    {
     "name": "stdout",
     "output_type": "stream",
     "text": [
      "Men sample size: 63\n",
      "Men sample_mean: 98.095238\n",
      "Men sample_std:  0.698622\n",
      "Men sample_mean std: 0.088018\n",
      "Women sample size: 64\n",
      "Women sample_mean: 98.396875\n",
      "Women sample_std:  0.743087\n",
      "Women sample_mean std: 0.092886\n",
      "Difference Sample_mean: -0.301637\n",
      "Difference Sample_mean Std: 0.127965\n"
     ]
    }
   ],
   "source": [
    "mwtemp_hypo = ts.DiffMeanhypothesisTest_twoSample(temp_men, temp_women, legends=['Men', 'Women'])"
   ]
  },
  {
   "cell_type": "markdown",
   "metadata": {},
   "source": [
    "p_value is computed less than 1% under null-Hypothesis. So it's rejected and the assumption existing a difference between Men's and Women's is accepted."
   ]
  },
  {
   "cell_type": "code",
   "execution_count": 38,
   "metadata": {},
   "outputs": [
    {
     "name": "stdout",
     "output_type": "stream",
     "text": [
      "z-test pValue for H0(equal mean temp for Men and Women): 0.009207\n",
      "t-test pValue for H0(equal mean temp for Men and Women): 0.009984\n",
      "t-test pValue for H0(equal mean temp for Men and Women) using scipy API: 0.010474\n"
     ]
    }
   ],
   "source": [
    "pValue_zTest, _ = mwtemp_hypo.pValue_zTest(0)\n",
    "print 'z-test pValue for H0(equal mean temp for Men and Women): %f' % pValue_zTest\n",
    "\n",
    "pValue_tTest, _ = mwtemp_hypo.pValue_tTest(0)\n",
    "print 't-test pValue for H0(equal mean temp for Men and Women): %f' % pValue_tTest\n",
    "\n",
    "# One-tailed relative ttest using scipy\n",
    "# note: scipy computed two-tailed pvalue, so the pvalue must be devided by 2 to get one-tailed pvalue\n",
    "temp_rel_tStats_api = scp.stats.ttest_ind(temp_men, temp_women, equal_var=False)\n",
    "print 't-test pValue for H0(equal mean temp for Men and Women) using scipy API: %f' % (temp_rel_tStats_api.pvalue/2)"
   ]
  },
  {
   "cell_type": "markdown",
   "metadata": {},
   "source": [
    "Also the computed 95% Confidence Interval is negative. "
   ]
  },
  {
   "cell_type": "code",
   "execution_count": 39,
   "metadata": {
    "scrolled": true
   },
   "outputs": [
    {
     "name": "stdout",
     "output_type": "stream",
     "text": [
      "z-test 95% CI for average difference temperature of Men and Women: [-0.55244308 -0.05083073]\n",
      "z-test 95% ME for average difference temperature of Men and Women: 0.250806\n",
      "t-test 95% CI for average difference temperature of Men and Women: [-0.5548949  -0.04837891]\n",
      "t-test 95% ME for average difference temperature of Men and Women: 0.253258\n"
     ]
    }
   ],
   "source": [
    "pcg = 95\n",
    "\n",
    "CI_zTest, ME_zTest = mwtemp_hypo.CI_zTest(pcg)\n",
    "print 'z-test %d%% CI for average difference temperature of Men and Women: ' % pcg + str(CI_zTest)\n",
    "print 'z-test %d%% ME for average difference temperature of Men and Women: %f' % (pcg, ME_zTest)\n",
    "\n",
    "CI_tTest, ME_tTest = mwtemp_hypo.CI_tTest(pcg)\n",
    "print 't-test %d%% CI for average difference temperature of Men and Women: ' % pcg + str(CI_tTest)\n",
    "print 't-test %d%% ME for average difference temperature of Men and Women: %f' % (pcg, ME_tTest)"
   ]
  },
  {
   "cell_type": "markdown",
   "metadata": {},
   "source": [
    "##  Heart Rate statistics"
   ]
  },
  {
   "cell_type": "markdown",
   "metadata": {
    "collapsed": true
   },
   "source": [
    "Sample and difference sample mean Statistics are computed for Men's and Women's Heart Rate by DiffMeanhypothesisTest_twoSample class."
   ]
  },
  {
   "cell_type": "code",
   "execution_count": 40,
   "metadata": {},
   "outputs": [
    {
     "name": "stdout",
     "output_type": "stream",
     "text": [
      "Men sample size: 63\n",
      "Men sample_mean: 73.222222\n",
      "Men sample_std:  5.862023\n",
      "Men sample_mean std: 0.738545\n",
      "Women sample size: 64\n",
      "Women sample_mean: 74.171875\n",
      "Women sample_std:  8.103924\n",
      "Women sample_mean std: 1.012990\n",
      "Difference Sample_mean: -0.949653\n",
      "Difference Sample_mean Std: 1.253634\n"
     ]
    }
   ],
   "source": [
    "mwHR_hypo = ts.DiffMeanhypothesisTest_twoSample(hr_men, hr_women, legends=['Men', 'Women'])"
   ]
  },
  {
   "cell_type": "markdown",
   "metadata": {},
   "source": [
    "The computed 95% Confidence Interval is not pure positive or negative. "
   ]
  },
  {
   "cell_type": "code",
   "execution_count": 41,
   "metadata": {},
   "outputs": [
    {
     "name": "stdout",
     "output_type": "stream",
     "text": [
      "z-test 95% CI for average difference Heart rate of Men and Women: [-3.40673105  1.50742549]\n",
      "z-test 95% ME for average difference Heart rate of Men and Women: 2.457078\n",
      "t-test 95% CI for average difference Heart rate of Men and Women: [-3.43075084  1.53144528]\n",
      "t-test 95% ME for average difference Heart rate of Men and Women: 2.481098\n"
     ]
    }
   ],
   "source": [
    "pcg = 95\n",
    "\n",
    "CI_zTest, ME_zTest = mwHR_hypo.CI_zTest(pcg)\n",
    "print 'z-test %d%% CI for average difference Heart rate of Men and Women: ' % pcg + str(CI_zTest)\n",
    "print 'z-test %d%% ME for average difference Heart rate of Men and Women: %f' % (pcg, ME_zTest)\n",
    "\n",
    "CI_tTest, ME_tTest = mwHR_hypo.CI_tTest(pcg)\n",
    "print 't-test %d%% CI for average difference Heart rate of Men and Women: ' % pcg + str(CI_tTest)\n",
    "print 't-test %d%% ME for average difference Heart rate of Men and Women: %f' % (pcg, ME_tTest)"
   ]
  },
  {
   "cell_type": "markdown",
   "metadata": {},
   "source": [
    "p_value is computed higher than 44%, so the null-Hypothesis is not rejected."
   ]
  },
  {
   "cell_type": "code",
   "execution_count": 42,
   "metadata": {},
   "outputs": [
    {
     "name": "stdout",
     "output_type": "stream",
     "text": [
      "z-test pValue for H0(equal mean temp for Men and Women): 0.448739\n",
      "t-test pValue for H0(equal mean temp for Men and Women): 0.450164\n",
      "t-test pValue for H0(equal mean temp for Men and Women) using scipy API: 0.454855\n"
     ]
    }
   ],
   "source": [
    "_, pValue_zTest = mwHR_hypo.pValue_zTest(0)\n",
    "print 'z-test pValue for H0(equal mean temp for Men and Women): %f' % pValue_zTest\n",
    "\n",
    "_, pValue_tTest = mwHR_hypo.pValue_tTest(0)\n",
    "print 't-test pValue for H0(equal mean temp for Men and Women): %f' % pValue_tTest\n",
    "\n",
    "HR_tStats_rel = scp.stats.ttest_ind(hr_men, hr_women)\n",
    "print 't-test pValue for H0(equal mean temp for Men and Women) using scipy API: %f' % HR_tStats_rel.pvalue"
   ]
  },
  {
   "cell_type": "markdown",
   "metadata": {},
   "source": [
    "The scatter plot don't show a meaningful correlation between Temperature and Heart Rate. Also, there is no seperable clusters for Male and Female."
   ]
  },
  {
   "cell_type": "code",
   "execution_count": 43,
   "metadata": {},
   "outputs": [
    {
     "data": {
      "text/plain": [
       "<matplotlib.legend.Legend at 0xed685c0>"
      ]
     },
     "execution_count": 43,
     "metadata": {},
     "output_type": "execute_result"
    },
    {
     "data": {
      "image/png": "[encoded data removed]",
      "text/plain": [
       "<matplotlib.figure.Figure at 0xee33518>"
      ]
     },
     "metadata": {},
     "output_type": "display_data"
    }
   ],
   "source": [
    "plt.scatter(temp.temperature[df.gender=='F'], temp.heart_rate[df.gender=='F'])\n",
    "plt.scatter(temp.temperature[df.gender=='M'], temp.heart_rate[df.gender=='M'])\n",
    "plt.xlabel('Heart_Rate')\n",
    "plt.ylabel('Temperature')\n",
    "plt.legend(['Female', 'Male'])"
   ]
  }
 ],
 "metadata": {
  "kernelspec": {
   "display_name": "Python 2",
   "language": "python",
   "name": "python2"
  },
  "language_info": {
   "codemirror_mode": {
    "name": "ipython",
    "version": 2
   },
   "file_extension": ".py",
   "mimetype": "text/x-python",
   "name": "python",
   "nbconvert_exporter": "python",
   "pygments_lexer": "ipython2",
   "version": "2.7.13"
  }
 },
 "nbformat": 4,
 "nbformat_minor": 1
}
